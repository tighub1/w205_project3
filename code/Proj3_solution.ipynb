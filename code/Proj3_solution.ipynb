{
  "nbformat": 4,
  "nbformat_minor": 0,
  "metadata": {
    "colab": {
      "provenance": [],
      "collapsed_sections": [
        "WKZg9tATkmmv",
        "UgdozJdsYZzu",
        "HkwalSiQbB3k",
        "HRmTGdFJbniQ",
        "MV1j0aPBcfX1"
      ]
    },
    "kernelspec": {
      "name": "python3",
      "display_name": "Python 3"
    },
    "language_info": {
      "name": "python"
    }
  },
  "cells": [
    {
      "cell_type": "markdown",
      "source": [
        "# W205 Project 3\n",
        "## AGM Business Improvement\n",
        "\n",
        "### Team Members\n",
        "#### Member 1\n",
        "#### Member 2\n",
        "#### Member 3"
      ],
      "metadata": {
        "id": "TfPnGDJ3hENr"
      }
    },
    {
      "cell_type": "code",
      "source": [
        "import neo4j\n",
        "import csv\n",
        "import math\n",
        "import numpy as np\n",
        "import pandas as pd\n",
        "\n",
        "import psycopg2"
      ],
      "metadata": {
        "colab": {
          "base_uri": "https://localhost:8080/",
          "height": 368
        },
        "id": "hU69GAg6hFsT",
        "outputId": "8fc3dadf-fd16-4785-b29a-3f5709d7e5e4"
      },
      "execution_count": 6,
      "outputs": [
        {
          "output_type": "error",
          "ename": "ModuleNotFoundError",
          "evalue": "ignored",
          "traceback": [
            "\u001b[0;31m---------------------------------------------------------------------------\u001b[0m",
            "\u001b[0;31mModuleNotFoundError\u001b[0m                       Traceback (most recent call last)",
            "\u001b[0;32m<ipython-input-6-a462e7b5d199>\u001b[0m in \u001b[0;36m<module>\u001b[0;34m\u001b[0m\n\u001b[0;32m----> 1\u001b[0;31m \u001b[0;32mimport\u001b[0m \u001b[0mneo4j\u001b[0m\u001b[0;34m\u001b[0m\u001b[0;34m\u001b[0m\u001b[0m\n\u001b[0m\u001b[1;32m      2\u001b[0m \u001b[0;32mimport\u001b[0m \u001b[0mcsv\u001b[0m\u001b[0;34m\u001b[0m\u001b[0;34m\u001b[0m\u001b[0m\n\u001b[1;32m      3\u001b[0m \u001b[0;32mimport\u001b[0m \u001b[0mmath\u001b[0m\u001b[0;34m\u001b[0m\u001b[0;34m\u001b[0m\u001b[0m\n\u001b[1;32m      4\u001b[0m \u001b[0;32mimport\u001b[0m \u001b[0mnumpy\u001b[0m \u001b[0;32mas\u001b[0m \u001b[0mnp\u001b[0m\u001b[0;34m\u001b[0m\u001b[0;34m\u001b[0m\u001b[0m\n\u001b[1;32m      5\u001b[0m \u001b[0;32mimport\u001b[0m \u001b[0mpandas\u001b[0m \u001b[0;32mas\u001b[0m \u001b[0mpd\u001b[0m\u001b[0;34m\u001b[0m\u001b[0;34m\u001b[0m\u001b[0m\n",
            "\u001b[0;31mModuleNotFoundError\u001b[0m: No module named 'neo4j'",
            "",
            "\u001b[0;31m---------------------------------------------------------------------------\u001b[0;32m\nNOTE: If your import is failing due to a missing package, you can\nmanually install dependencies using either !pip or !apt.\n\nTo view examples of installing some common dependencies, click the\n\"Open Examples\" button below.\n\u001b[0;31m---------------------------------------------------------------------------\u001b[0m\n"
          ],
          "errorDetails": {
            "actions": [
              {
                "action": "open_url",
                "actionText": "Open Examples",
                "url": "/notebooks/snippets/importing_libraries.ipynb"
              }
            ]
          }
        }
      ]
    },
    {
      "cell_type": "markdown",
      "source": [
        "### Support Functions\n",
        "Reused from W205 Code / Labs"
      ],
      "metadata": {
        "id": "WKZg9tATkmmv"
      }
    },
    {
      "cell_type": "code",
      "source": [
        "connection = psycopg2.connect(\n",
        "    user = \"postgres\",\n",
        "    password = \"ucb\",\n",
        "    host = \"postgres\",\n",
        "    port = \"5432\",\n",
        "    database = \"postgres\"\n",
        ")\n",
        "\n",
        "cursor = connection.cursor()"
      ],
      "metadata": {
        "id": "usRPRbxpVXP5"
      },
      "execution_count": null,
      "outputs": []
    },
    {
      "cell_type": "code",
      "source": [
        "#\n",
        "# function to run a select query and return rows in a pandas dataframe\n",
        "# pandas puts all numeric values from postgres to float\n",
        "# if it will fit in an integer, change it to integer\n",
        "#\n",
        "\n",
        "def my_select_query_pandas(query, rollback_before_flag, rollback_after_flag):\n",
        "    \"function to run a select query and return rows in a pandas dataframe\"\n",
        "    \n",
        "    if rollback_before_flag:\n",
        "        connection.rollback()\n",
        "    \n",
        "    df = pd.read_sql_query(query, connection)\n",
        "    \n",
        "    if rollback_after_flag:\n",
        "        connection.rollback()\n",
        "    \n",
        "    # fix the float columns that really should be integers\n",
        "    \n",
        "    for column in df:\n",
        "    \n",
        "        if df[column].dtype == \"float64\":\n",
        "\n",
        "            fraction_flag = False\n",
        "\n",
        "            for value in df[column].values:\n",
        "                \n",
        "                if not np.isnan(value):\n",
        "                    if value - math.floor(value) != 0:\n",
        "                        fraction_flag = True\n",
        "\n",
        "            if not fraction_flag:\n",
        "                df[column] = df[column].astype('Int64')\n",
        "    \n",
        "    return(df)"
      ],
      "metadata": {
        "id": "x2Io5gh3hwKK"
      },
      "execution_count": 2,
      "outputs": []
    },
    {
      "cell_type": "code",
      "source": [
        "def my_read_csv_file(file_name, limit):\n",
        "    \"read the csv file and print only the first limit rows\"\n",
        "    \n",
        "    csv_file = open(file_name, \"r\")\n",
        "    \n",
        "    csv_data = csv.reader(csv_file)\n",
        "    \n",
        "    i = 0\n",
        "    \n",
        "    for row in csv_data:\n",
        "        i += 1\n",
        "        if i <= limit:\n",
        "            print(row)\n",
        "            \n",
        "    print(\"\\nPrinted \", min(limit, i), \"lines of \", i, \"total lines.\")"
      ],
      "metadata": {
        "id": "RQvI177ykysD"
      },
      "execution_count": 3,
      "outputs": []
    },
    {
      "cell_type": "markdown",
      "source": [
        "### Drop tables, create and load from CSV files"
      ],
      "metadata": {
        "id": "UgdozJdsYZzu"
      }
    },
    {
      "cell_type": "code",
      "source": [
        "connection.rollback()\n",
        "\n",
        "query = \"\"\"\n",
        "\n",
        "drop table if exists stations;\n",
        "\"\"\"\n",
        "\n",
        "cursor = connection.cursor()\n",
        "cursor.execute(query)\n",
        "\n",
        "connection.commit()"
      ],
      "metadata": {
        "id": "_ypQrufSVUzp"
      },
      "execution_count": null,
      "outputs": []
    },
    {
      "cell_type": "code",
      "source": [
        "connection.rollback()\n",
        "\n",
        "query = \"\"\"\n",
        "\n",
        "drop table if exists lines;\n",
        "\n",
        "\"\"\"\n",
        "\n",
        "cursor = connection.cursor()\n",
        "cursor.execute(query)\n",
        "\n",
        "connection.commit()"
      ],
      "metadata": {
        "id": "zTPVkavlVVJO"
      },
      "execution_count": null,
      "outputs": []
    },
    {
      "cell_type": "code",
      "source": [
        "connection.rollback()\n",
        "\n",
        "query = \"\"\"\n",
        "\n",
        "drop table if exists travel_times;\n",
        "\n",
        "\"\"\"\n",
        "\n",
        "cursor = connection.cursor()\n",
        "cursor.execute(query)\n",
        "\n",
        "connection.commit()"
      ],
      "metadata": {
        "id": "lkVXQu5ZVVV-"
      },
      "execution_count": null,
      "outputs": []
    },
    {
      "cell_type": "code",
      "source": [
        "connection.rollback()\n",
        "\n",
        "query = \"\"\"\n",
        "\n",
        "create table stations (\n",
        "    station varchar(32),\n",
        "    latitude numeric(9,6),\n",
        "    longitude numeric(9,6),\n",
        "    transfer_time numeric(3),\n",
        "    primary key (station)\n",
        ");\n",
        "\n",
        "\"\"\"\n",
        "\n",
        "cursor = connection.cursor()\n",
        "cursor.execute(query)\n",
        "\n",
        "connection.commit()"
      ],
      "metadata": {
        "id": "cFuQtg9pWTto"
      },
      "execution_count": null,
      "outputs": []
    },
    {
      "cell_type": "code",
      "source": [
        "connection.rollback()\n",
        "\n",
        "query = \"\"\"\n",
        "\n",
        "create table lines (\n",
        "    line varchar(6),\n",
        "    sequence numeric(2),\n",
        "    station varchar(32),\n",
        "    primary key (line, sequence)\n",
        ");\n",
        "\n",
        "\"\"\"\n",
        "\n",
        "cursor = connection.cursor()\n",
        "cursor.execute(query)\n",
        "\n",
        "connection.commit()"
      ],
      "metadata": {
        "id": "_b1wMoNfWYcB"
      },
      "execution_count": null,
      "outputs": []
    },
    {
      "cell_type": "code",
      "source": [
        "connection.rollback()\n",
        "\n",
        "query = \"\"\"\n",
        "\n",
        "create table travel_times (\n",
        "    station_1 varchar(32),\n",
        "    station_2 varchar(32),\n",
        "    travel_time numeric(3),\n",
        "    primary key (station_1, station_2)\n",
        ");\n",
        "\n",
        "\"\"\"\n",
        "\n",
        "cursor = connection.cursor()\n",
        "cursor.execute(query)\n",
        "\n",
        "connection.commit()"
      ],
      "metadata": {
        "id": "dIyU9eggWYvB"
      },
      "execution_count": null,
      "outputs": []
    },
    {
      "cell_type": "code",
      "source": [
        "connection.rollback()\n",
        "\n",
        "query = \"\"\"\n",
        "\n",
        "copy stations\n",
        "from '/user/projects/project-3/exercise/stations.csv' delimiter ',' NULL '' csv header;\n",
        "\n",
        "\"\"\"\n",
        "\n",
        "cursor = connection.cursor()\n",
        "cursor.execute(query)\n",
        "\n",
        "connection.commit()"
      ],
      "metadata": {
        "id": "PkwAauOfWY5w"
      },
      "execution_count": null,
      "outputs": []
    },
    {
      "cell_type": "code",
      "source": [
        "connection.rollback()\n",
        "\n",
        "query = \"\"\"\n",
        "\n",
        "copy lines\n",
        "from '/user/projects/project-3/exercise/lines.csv' delimiter ',' NULL '' csv header;\n",
        "\n",
        "\"\"\"\n",
        "\n",
        "cursor = connection.cursor()\n",
        "cursor.execute(query)\n",
        "\n",
        "connection.commit()"
      ],
      "metadata": {
        "id": "L4OpEyVCWZBf"
      },
      "execution_count": null,
      "outputs": []
    },
    {
      "cell_type": "code",
      "source": [
        "connection.rollback()\n",
        "\n",
        "query = \"\"\"\n",
        "\n",
        "copy travel_times\n",
        "from '/user/projects/project-3/exercise/travel_times.csv' delimiter ',' NULL '' csv header;\n",
        "\n",
        "\"\"\"\n",
        "\n",
        "cursor = connection.cursor()\n",
        "cursor.execute(query)\n",
        "\n",
        "connection.commit()"
      ],
      "metadata": {
        "id": "3gH-mraIWZF4"
      },
      "execution_count": null,
      "outputs": []
    },
    {
      "cell_type": "markdown",
      "source": [
        "### Establish Neo4j connection and helper functions"
      ],
      "metadata": {
        "id": "evmlasqHYv1B"
      }
    },
    {
      "cell_type": "code",
      "source": [
        "driver = neo4j.GraphDatabase.driver(uri=\"neo4j://neo4j:7687\", auth=(\"neo4j\",\"w205\"))\n",
        "session = driver.session(database=\"neo4j\")"
      ],
      "metadata": {
        "id": "9cH0SX42oEeo"
      },
      "execution_count": null,
      "outputs": []
    },
    {
      "cell_type": "code",
      "source": [
        "def my_neo4j_wipe_out_database():\n",
        "    \"wipe out database by deleting all nodes and relationships\"\n",
        "    \n",
        "    query = \"match (node)-[relationship]->() delete node, relationship\"\n",
        "    session.run(query)\n",
        "    \n",
        "    query = \"match (node) delete node\"\n",
        "    session.run(query)\n",
        "  \n",
        "def my_neo4j_run_query_pandas(query, **kwargs):\n",
        "    \"run a query and return the results in a pandas dataframe\"\n",
        "    \n",
        "    result = session.run(query, **kwargs)\n",
        "    \n",
        "    df = pd.DataFrame([r.values() for r in result], columns=result.keys())\n",
        "    \n",
        "    return df\n",
        "\n",
        "def my_neo4j_create_node(station_name):\n",
        "    \"create a node with label Station\"\n",
        "    \n",
        "    query = \"\"\"\n",
        "    \n",
        "    CREATE (:Station {name: $station_name})\n",
        "    \n",
        "    \"\"\"\n",
        "    \n",
        "    session.run(query, station_name=station_name)\n",
        "\n",
        "def my_neo4j_create_relationship_one_way(from_station, to_station, weight):\n",
        "    \"create a relationship one way between two stations with a weight\"\n",
        "    \n",
        "    query = \"\"\"\n",
        "    \n",
        "    MATCH (from:Station), \n",
        "          (to:Station)\n",
        "    WHERE from.name = $from_station and to.name = $to_station\n",
        "    CREATE (from)-[:LINK {weight: $weight}]->(to)\n",
        "    \n",
        "    \"\"\"\n",
        "    \n",
        "    session.run(query, from_station=from_station, to_station=to_station, weight=weight)\n",
        "\n",
        "def my_neo4j_create_relationship_two_way(from_station, to_station, weight):\n",
        "    \"create relationships two way between two stations with a weight\"\n",
        "    \n",
        "    query = \"\"\"\n",
        "    \n",
        "    MATCH (from:Station), \n",
        "          (to:Station)\n",
        "    WHERE from.name = $from_station and to.name = $to_station\n",
        "    CREATE (from)-[:LINK {weight: $weight}]->(to),\n",
        "           (to)-[:LINK {weight: $weight}]->(from)\n",
        "    \n",
        "    \"\"\"\n",
        "    \n",
        "    session.run(query, from_station=from_station, to_station=to_station, weight=weight)\n",
        "\n"
      ],
      "metadata": {
        "id": "HPj7XZhroEpI"
      },
      "execution_count": null,
      "outputs": []
    },
    {
      "cell_type": "code",
      "source": [
        "my_neo4j_wipe_out_database()"
      ],
      "metadata": {
        "id": "2W013kBVoEzO"
      },
      "execution_count": null,
      "outputs": []
    },
    {
      "cell_type": "markdown",
      "source": [
        "### Create graphs from csv station files"
      ],
      "metadata": {
        "id": "3LTZx4ubaC_y"
      }
    },
    {
      "cell_type": "markdown",
      "source": [
        "#### Query the list of stations and create the departure and arrival nodes in the graph\n",
        "\n",
        "Use the query from 3.2.1 \"Query the list of stations\"\n",
        "\n",
        "For each station X, create two nodes:\n",
        "* depart X\n",
        "* arrive X\n",
        "\n",
        "Use the function my_neo4j_create_node() defined above\n",
        "\n",
        "For example, West Oakland:\n",
        "* my_neo4j_create_node('depart West Oakland')\n",
        "* my_neo4j_create_node('arrive West Oakland')"
      ],
      "metadata": {
        "id": "sFlXG1m2ZrHk"
      }
    },
    {
      "cell_type": "code",
      "source": [
        "connection.rollback()\n",
        "\n",
        "query = \"\"\"\n",
        "\n",
        "select station\n",
        "from stations\n",
        "order by station\n",
        "\n",
        "\"\"\"\n",
        "\n",
        "cursor.execute(query)\n",
        "\n",
        "connection.rollback()\n",
        "\n",
        "rows = cursor.fetchall()\n",
        "\n",
        "for row in rows:\n",
        "    \n",
        "    station = row[0]\n",
        "    \n",
        "    my_neo4j_create_node('depart ' + station)\n",
        "    my_neo4j_create_node('arrive ' + station)"
      ],
      "metadata": {
        "id": "eF7yozaqZrxz"
      },
      "execution_count": 6,
      "outputs": []
    },
    {
      "cell_type": "markdown",
      "source": [
        "#### Query the list of stations and the lines they serve, create line nodes, and create relationships between the line nodes and the departure and arrival nodes with weight 0\n",
        "\n",
        "Use the query from \"Query the list of stations and the lines they serve\"\n",
        "\n",
        "For each station X and each line Y that the station serves:\n",
        "* Create a line node\n",
        "* Create a relationship from the departure node to the line node with weight 0\n",
        "* Create a relationship from the line node to the arrival node with weight 0\n",
        "\n",
        "Use the function my_neo4j_create_relationship_one_way() defined above to create the relationships"
      ],
      "metadata": {
        "id": "0NdAVKkBaSS2"
      }
    },
    {
      "cell_type": "code",
      "source": [
        "connection.rollback()\n",
        "\n",
        "query = \"\"\"\n",
        "\n",
        "select station, line\n",
        "from lines\n",
        "order by station, line\n",
        "\n",
        "\"\"\"\n",
        "\n",
        "cursor.execute(query)\n",
        "\n",
        "connection.rollback()\n",
        "\n",
        "rows = cursor.fetchall()\n",
        "\n",
        "for row in rows:\n",
        "    \n",
        "    station = row[0]\n",
        "    line = row[1]\n",
        "    \n",
        "    depart = 'depart ' + station\n",
        "    arrive = 'arrive ' + station\n",
        "    line_station = line + ' ' + station\n",
        "    \n",
        "    my_neo4j_create_node(line_station)\n",
        "    my_neo4j_create_relationship_one_way(depart, line_station, 0)\n",
        "    my_neo4j_create_relationship_one_way(line_station, arrive, 0)"
      ],
      "metadata": {
        "id": "Kj7iRn2CajaO"
      },
      "execution_count": null,
      "outputs": []
    },
    {
      "cell_type": "markdown",
      "source": [
        "#### Query the list of all possible line transfers and the transfer times, create a relationship for each transfer with the transfer time as the weight\n",
        "\n",
        "Use the query from 3.2.5 \"Query the list of all possible line transfers and the transfer times\"\n",
        "\n",
        "For each station X, from line Y, to line Z, create a relationship from Y's line node to Z's line node with the weight set to the transfer time"
      ],
      "metadata": {
        "id": "W5rVOI2WaoUf"
      }
    },
    {
      "cell_type": "code",
      "source": [
        "connection.rollback()\n",
        "\n",
        "query = \"\"\"\n",
        "\n",
        "select a.station, a.line as from_line, b.line as to_line, s.transfer_time\n",
        "from lines a\n",
        "     join lines b\n",
        "       on a.station = b.station and a.line <> b.line \n",
        "     join stations s\n",
        "       on a.station = s.station\n",
        "order by 1, 2, 3\n",
        "\n",
        "\"\"\"\n",
        "\n",
        "cursor.execute(query)\n",
        "\n",
        "connection.rollback()\n",
        "\n",
        "rows = cursor.fetchall()\n",
        "\n",
        "for row in rows:\n",
        "    \n",
        "    station = row[0]\n",
        "    from_line = row[1]\n",
        "    to_line = row[2]\n",
        "    transfer_time = int(row[3])\n",
        "    \n",
        "    from_station = from_line + ' ' + station\n",
        "    to_station = to_line + ' ' + station\n",
        "    \n",
        "    my_neo4j_create_relationship_one_way(from_station, to_station, transfer_time)"
      ],
      "metadata": {
        "id": "441E_3e8azho"
      },
      "execution_count": null,
      "outputs": []
    },
    {
      "cell_type": "markdown",
      "source": [
        "#### Query the list of all segments between each station and its adjoining stations, create a relationship for each segment both ways\n",
        "\n",
        "Use the query from 3.2.7 \"Query the list of all segments between each station and its adjoining stations\"\n",
        "\n",
        "For each segment from station X to station Y on line Z, create two relationships:\n",
        "* From X's line node to Y's line node with travel time\n",
        "* From Y's line node to X's line node with travel time\n",
        "\n",
        "Use the function my_neo4j_create_relationship_two_way() defined above which will create both relationships "
      ],
      "metadata": {
        "id": "HkwalSiQbB3k"
      }
    },
    {
      "cell_type": "code",
      "source": [
        "connection.rollback()\n",
        "\n",
        "query = \"\"\"\n",
        "\n",
        "select a.line, a.station as from_station, b.station as to_station, t.travel_time\n",
        "from lines a\n",
        "  join lines b\n",
        "    on a.line = b.line and b.sequence = (a.sequence + 1)\n",
        "  join travel_times t\n",
        "    on (a.station = t.station_1 and b.station = t.station_2)\n",
        "        or (a.station = t.station_2 and b.station = t.station_1)\n",
        "order by line, from_station, to_station\n",
        "\n",
        "\"\"\"\n",
        "\n",
        "cursor.execute(query)\n",
        "\n",
        "connection.rollback()\n",
        "\n",
        "rows = cursor.fetchall()\n",
        "\n",
        "for row in rows:\n",
        "    \n",
        "    line = row[0]\n",
        "    from_station = line + ' ' + row[1]\n",
        "    to_station = line + ' ' + row[2]\n",
        "    travel_time = int(row[3])\n",
        "    \n",
        "    my_neo4j_create_relationship_two_way(from_station, to_station, travel_time)"
      ],
      "metadata": {
        "id": "g7WFOQNibD6D"
      },
      "execution_count": null,
      "outputs": []
    },
    {
      "cell_type": "markdown",
      "source": [
        "### Begin PROJECT 3 CODE HERE"
      ],
      "metadata": {
        "id": "qD5mih00Y2rq"
      }
    },
    {
      "cell_type": "markdown",
      "source": [
        "#### Define search algorithms"
      ],
      "metadata": {
        "id": "HRmTGdFJbniQ"
      }
    },
    {
      "cell_type": "code",
      "source": [
        "# *******************************************************\n",
        "# Shortest Path algorithm from W205 \n",
        "# *******************************************************\n",
        "def my_neo4j_shortest_path(from_station, to_station):\n",
        "    \"given a from station and to station, run and print the shortest path\"\n",
        "    \n",
        "    query = \"CALL gds.graph.drop('ds_graph', false)\"\n",
        "    session.run(query)\n",
        "\n",
        "    query = \"CALL gds.graph.project('ds_graph', 'Station', 'LINK', {relationshipProperties: 'weight'})\"\n",
        "    session.run(query)\n",
        "\n",
        "    query = \"\"\"\n",
        "\n",
        "    MATCH (source:Station {name: $source}), (target:Station {name: $target})\n",
        "    CALL gds.shortestPath.dijkstra.stream(\n",
        "        'ds_graph', \n",
        "        { sourceNode: source, \n",
        "          targetNode: target, \n",
        "          relationshipWeightProperty: 'weight'\n",
        "        }\n",
        "    )\n",
        "    YIELD index, sourceNode, targetNode, totalCost, nodeIds, costs, path\n",
        "    RETURN\n",
        "        gds.util.asNode(sourceNode).name AS from,\n",
        "        gds.util.asNode(targetNode).name AS to,\n",
        "        totalCost,\n",
        "        [nodeId IN nodeIds | gds.util.asNode(nodeId).name] AS nodes,\n",
        "        costs\n",
        "    ORDER BY index\n",
        "\n",
        "    \"\"\"\n",
        "\n",
        "    result = session.run(query, source=from_station, target=to_station)\n",
        "    \n",
        "    for r in result:\n",
        "        \n",
        "        total_cost = int(r['totalCost'])\n",
        "        \n",
        "        print(\"\\n--------------------------------\")\n",
        "        print(\"   Total Cost: \", total_cost)\n",
        "        print(\"   Minutes: \", round(total_cost / 60.0,1))\n",
        "        print(\"--------------------------------\")\n",
        "        \n",
        "        nodes = r['nodes']\n",
        "        costs = r['costs']\n",
        "        \n",
        "        i = 0\n",
        "        previous = 0\n",
        "        \n",
        "        for n in nodes:\n",
        "            \n",
        "            print(n + \", \" + str(int(costs[i]) - previous)  + \", \" + str(int(costs[i])))\n",
        "            \n",
        "            previous = int(costs[i])\n",
        "            i += 1"
      ],
      "metadata": {
        "id": "ITOO8aRkY9R9"
      },
      "execution_count": 6,
      "outputs": []
    },
    {
      "cell_type": "markdown",
      "source": [
        "#### Project To Do\n",
        "1. Add modules to injest real time traffic data (use Redis or Redis fixed document as a proxy)\n",
        "2. Import train schedules, planned route outages (use MongoDB)\n",
        "3. Based on 1 and 2 create new graphs or modify cost / weights across nodes on existing graphs to eliminate paths and change time cost across nodes\n",
        "4. Create 3 or more search, sort algorithms. Use the above as a template\n",
        "5. Overlay Google maps API\n"
      ],
      "metadata": {
        "id": "MV1j0aPBcfX1"
      }
    },
    {
      "cell_type": "code",
      "source": [],
      "metadata": {
        "id": "wfvwkWileJKA"
      },
      "execution_count": null,
      "outputs": []
    }
  ]
}
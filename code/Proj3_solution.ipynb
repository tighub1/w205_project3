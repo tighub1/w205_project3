{
 "cells": [
  {
   "cell_type": "markdown",
   "metadata": {
    "id": "TfPnGDJ3hENr"
   },
   "source": [
    "# W205 Project 3\n",
    "## AGM Business Improvement\n",
    "\n",
    "### Team Members\n",
    "#### Siddhartha Gupte\n",
    "#### Kumar Kallurupalli\n",
    "#### Tigran Poladian\n",
    "\n",
    "Data science demonstration for the AGM data science team using the BART transportation system.\n",
    "\n",
    "### BART TRACK LAYOUT\n",
    "\n",
    "![Bart Map](../data/bart_map.png)"
   ]
  },
  {
   "cell_type": "code",
   "execution_count": 1,
   "metadata": {},
   "outputs": [
    {
     "name": "stdout",
     "output_type": "stream",
     "text": [
      "Requirement already satisfied: geopy in /opt/conda/lib/python3.9/site-packages (2.3.0)\n",
      "Requirement already satisfied: geographiclib<3,>=1.52 in /opt/conda/lib/python3.9/site-packages (from geopy) (2.0)\n",
      "\u001b[33mWARNING: Running pip as the 'root' user can result in broken permissions and conflicting behaviour with the system package manager. It is recommended to use a virtual environment instead: https://pip.pypa.io/warnings/venv\u001b[0m\n",
      "Note: you may need to restart the kernel to use updated packages.\n"
     ]
    }
   ],
   "source": [
    "pip install geopy"
   ]
  },
  {
   "cell_type": "code",
   "execution_count": 2,
   "metadata": {
    "colab": {
     "base_uri": "https://localhost:8080/",
     "height": 368
    },
    "id": "hU69GAg6hFsT",
    "outputId": "8fc3dadf-fd16-4785-b29a-3f5709d7e5e4"
   },
   "outputs": [],
   "source": [
    "import neo4j\n",
    "import csv\n",
    "import math\n",
    "import numpy as np\n",
    "import pandas as pd\n",
    "\n",
    "import psycopg2\n",
    "\n",
    "import pymongo\n",
    "\n",
    "import json\n",
    "\n",
    "import geopy\n",
    "from geopy.geocoders import Nominatim\n",
    "\n",
    "from matplotlib import pyplot as plt"
   ]
  },
  {
   "cell_type": "markdown",
   "metadata": {
    "id": "WKZg9tATkmmv"
   },
   "source": [
    "### Support Functions\n",
    "Reused from W205 Code / Labs"
   ]
  },
  {
   "cell_type": "code",
   "execution_count": 3,
   "metadata": {
    "id": "usRPRbxpVXP5"
   },
   "outputs": [],
   "source": [
    "connection = psycopg2.connect(\n",
    "    user = \"postgres\",\n",
    "    password = \"ucb\",\n",
    "    host = \"postgres\",\n",
    "    port = \"5432\",\n",
    "    database = \"postgres\"\n",
    ")\n",
    "\n",
    "cursor = connection.cursor()"
   ]
  },
  {
   "cell_type": "code",
   "execution_count": 4,
   "metadata": {
    "id": "x2Io5gh3hwKK"
   },
   "outputs": [],
   "source": [
    "#\n",
    "# function to run a select query and return rows in a pandas dataframe\n",
    "# pandas puts all numeric values from postgres to float\n",
    "# if it will fit in an integer, change it to integer\n",
    "#\n",
    "\n",
    "def my_select_query_pandas(query, rollback_before_flag, rollback_after_flag):\n",
    "    \"function to run a select query and return rows in a pandas dataframe\"\n",
    "    \n",
    "    if rollback_before_flag:\n",
    "        connection.rollback()\n",
    "    \n",
    "    df = pd.read_sql_query(query, connection)\n",
    "    \n",
    "    if rollback_after_flag:\n",
    "        connection.rollback()\n",
    "    \n",
    "    # fix the float columns that really should be integers\n",
    "    \n",
    "    for column in df:\n",
    "    \n",
    "        if df[column].dtype == \"float64\":\n",
    "\n",
    "            fraction_flag = False\n",
    "\n",
    "            for value in df[column].values:\n",
    "                \n",
    "                if not np.isnan(value):\n",
    "                    if value - math.floor(value) != 0:\n",
    "                        fraction_flag = True\n",
    "\n",
    "            if not fraction_flag:\n",
    "                df[column] = df[column].astype('Int64')\n",
    "    \n",
    "    return(df)"
   ]
  },
  {
   "cell_type": "code",
   "execution_count": 5,
   "metadata": {
    "id": "RQvI177ykysD"
   },
   "outputs": [],
   "source": [
    "def my_read_csv_file(file_name, limit):\n",
    "    \"read the csv file and print only the first limit rows\"\n",
    "    \n",
    "    csv_file = open(file_name, \"r\")\n",
    "    \n",
    "    csv_data = csv.reader(csv_file)\n",
    "    \n",
    "    i = 0\n",
    "    \n",
    "    for row in csv_data:\n",
    "        i += 1\n",
    "        if i <= limit:\n",
    "            print(row)\n",
    "            \n",
    "    print(\"\\nPrinted \", min(limit, i), \"lines of \", i, \"total lines.\")"
   ]
  },
  {
   "cell_type": "markdown",
   "metadata": {
    "id": "UgdozJdsYZzu"
   },
   "source": [
    "### Drop tables, create and load from CSV files"
   ]
  },
  {
   "cell_type": "code",
   "execution_count": 6,
   "metadata": {
    "id": "_ypQrufSVUzp"
   },
   "outputs": [],
   "source": [
    "connection.rollback()\n",
    "\n",
    "query = \"\"\"\n",
    "\n",
    "drop table if exists stations;\n",
    "\"\"\"\n",
    "\n",
    "cursor = connection.cursor()\n",
    "cursor.execute(query)\n",
    "\n",
    "connection.commit()"
   ]
  },
  {
   "cell_type": "code",
   "execution_count": 7,
   "metadata": {
    "id": "zTPVkavlVVJO"
   },
   "outputs": [],
   "source": [
    "connection.rollback()\n",
    "\n",
    "query = \"\"\"\n",
    "\n",
    "drop table if exists lines;\n",
    "\n",
    "\"\"\"\n",
    "\n",
    "cursor = connection.cursor()\n",
    "cursor.execute(query)\n",
    "\n",
    "connection.commit()"
   ]
  },
  {
   "cell_type": "code",
   "execution_count": 8,
   "metadata": {
    "id": "lkVXQu5ZVVV-"
   },
   "outputs": [],
   "source": [
    "connection.rollback()\n",
    "\n",
    "query = \"\"\"\n",
    "\n",
    "drop table if exists travel_times;\n",
    "\n",
    "\"\"\"\n",
    "\n",
    "cursor = connection.cursor()\n",
    "cursor.execute(query)\n",
    "\n",
    "connection.commit()"
   ]
  },
  {
   "cell_type": "code",
   "execution_count": 9,
   "metadata": {
    "id": "cFuQtg9pWTto"
   },
   "outputs": [],
   "source": [
    "connection.rollback()\n",
    "\n",
    "query = \"\"\"\n",
    "\n",
    "create table stations (\n",
    "    station varchar(32),\n",
    "    latitude numeric(9,6),\n",
    "    longitude numeric(9,6),\n",
    "    transfer_time numeric(3),\n",
    "    primary key (station)\n",
    ");\n",
    "\n",
    "\"\"\"\n",
    "\n",
    "cursor = connection.cursor()\n",
    "cursor.execute(query)\n",
    "\n",
    "connection.commit()"
   ]
  },
  {
   "cell_type": "code",
   "execution_count": 10,
   "metadata": {
    "id": "_b1wMoNfWYcB"
   },
   "outputs": [],
   "source": [
    "connection.rollback()\n",
    "\n",
    "query = \"\"\"\n",
    "\n",
    "create table lines (\n",
    "    line varchar(6),\n",
    "    sequence numeric(2),\n",
    "    station varchar(32),\n",
    "    primary key (line, sequence)\n",
    ");\n",
    "\n",
    "\"\"\"\n",
    "\n",
    "cursor = connection.cursor()\n",
    "cursor.execute(query)\n",
    "\n",
    "connection.commit()"
   ]
  },
  {
   "cell_type": "code",
   "execution_count": 11,
   "metadata": {
    "id": "dIyU9eggWYvB"
   },
   "outputs": [],
   "source": [
    "connection.rollback()\n",
    "\n",
    "query = \"\"\"\n",
    "\n",
    "create table travel_times (\n",
    "    station_1 varchar(32),\n",
    "    station_2 varchar(32),\n",
    "    travel_time numeric(3),\n",
    "    primary key (station_1, station_2)\n",
    ");\n",
    "\n",
    "\"\"\"\n",
    "\n",
    "cursor = connection.cursor()\n",
    "cursor.execute(query)\n",
    "\n",
    "connection.commit()"
   ]
  },
  {
   "cell_type": "code",
   "execution_count": 12,
   "metadata": {
    "id": "PkwAauOfWY5w"
   },
   "outputs": [],
   "source": [
    "# NOTE: use location of data files\n",
    "connection.rollback()\n",
    "\n",
    "query = \"\"\"\n",
    "\n",
    "copy stations\n",
    "from '/user/projects/w205_project3/data/stations.csv' delimiter ',' NULL '' csv header;\n",
    "\n",
    "\"\"\"\n",
    "\n",
    "cursor = connection.cursor()\n",
    "cursor.execute(query)\n",
    "\n",
    "connection.commit()"
   ]
  },
  {
   "cell_type": "code",
   "execution_count": 13,
   "metadata": {
    "id": "L4OpEyVCWZBf"
   },
   "outputs": [],
   "source": [
    "connection.rollback()\n",
    "\n",
    "query = \"\"\"\n",
    "\n",
    "copy lines\n",
    "from '/user/projects/w205_project3/data/lines.csv' delimiter ',' NULL '' csv header;\n",
    "\n",
    "\"\"\"\n",
    "\n",
    "cursor = connection.cursor()\n",
    "cursor.execute(query)\n",
    "\n",
    "connection.commit()"
   ]
  },
  {
   "cell_type": "code",
   "execution_count": 14,
   "metadata": {
    "id": "3gH-mraIWZF4"
   },
   "outputs": [],
   "source": [
    "connection.rollback()\n",
    "\n",
    "query = \"\"\"\n",
    "\n",
    "copy travel_times\n",
    "from '/user/projects/w205_project3/data/travel_times.csv' delimiter ',' NULL '' csv header;\n",
    "\n",
    "\"\"\"\n",
    "\n",
    "cursor = connection.cursor()\n",
    "cursor.execute(query)\n",
    "\n",
    "connection.commit()"
   ]
  },
  {
   "cell_type": "markdown",
   "metadata": {
    "id": "evmlasqHYv1B"
   },
   "source": [
    "### Establish Neo4j connection and helper functions"
   ]
  },
  {
   "cell_type": "code",
   "execution_count": 17,
   "metadata": {
    "id": "9cH0SX42oEeo"
   },
   "outputs": [],
   "source": [
    "driver = neo4j.GraphDatabase.driver(uri=\"neo4j://neo4j:7687\", auth=(\"neo4j\",\"w205\"))\n",
    "session = driver.session(database=\"neo4j\")"
   ]
  },
  {
   "cell_type": "code",
   "execution_count": 18,
   "metadata": {
    "id": "HPj7XZhroEpI"
   },
   "outputs": [],
   "source": [
    "def my_neo4j_wipe_out_database():\n",
    "    \"wipe out database by deleting all nodes and relationships\"\n",
    "    \n",
    "    query = \"match (node)-[relationship]->() delete node, relationship\"\n",
    "    session.run(query)\n",
    "    \n",
    "    query = \"match (node) delete node\"\n",
    "    session.run(query)\n",
    "  \n",
    "def my_neo4j_run_query_pandas(query, **kwargs):\n",
    "    \"run a query and return the results in a pandas dataframe\"\n",
    "    \n",
    "    result = session.run(query, **kwargs)\n",
    "    \n",
    "    df = pd.DataFrame([r.values() for r in result], columns=result.keys())\n",
    "    \n",
    "    return df\n",
    "\n",
    "def my_neo4j_create_node(station_name):\n",
    "    \"create a node with label Station\"\n",
    "    \n",
    "    query = \"\"\"\n",
    "    \n",
    "    CREATE (:Station {name: $station_name})\n",
    "    \n",
    "    \"\"\"\n",
    "    \n",
    "    session.run(query, station_name=station_name)\n",
    "\n",
    "def my_neo4j_create_relationship_one_way(from_station, to_station, weight):\n",
    "    \"create a relationship one way between two stations with a weight\"\n",
    "    \n",
    "    query = \"\"\"\n",
    "    \n",
    "    MATCH (from:Station), \n",
    "          (to:Station)\n",
    "    WHERE from.name = $from_station and to.name = $to_station\n",
    "    CREATE (from)-[:LINK {weight: $weight}]->(to)\n",
    "    \n",
    "    \"\"\"\n",
    "    \n",
    "    session.run(query, from_station=from_station, to_station=to_station, weight=weight)\n",
    "\n",
    "def my_neo4j_create_relationship_two_way(from_station, to_station, weight):\n",
    "    \"create relationships two way between two stations with a weight\"\n",
    "    \n",
    "    query = \"\"\"\n",
    "    \n",
    "    MATCH (from:Station), \n",
    "          (to:Station)\n",
    "    WHERE from.name = $from_station and to.name = $to_station\n",
    "    CREATE (from)-[:LINK {weight: $weight}]->(to),\n",
    "           (to)-[:LINK {weight: $weight}]->(from)\n",
    "    \n",
    "    \"\"\"\n",
    "    \n",
    "    session.run(query, from_station=from_station, to_station=to_station, weight=weight)\n"
   ]
  },
  {
   "cell_type": "code",
   "execution_count": 19,
   "metadata": {
    "id": "2W013kBVoEzO"
   },
   "outputs": [],
   "source": [
    "my_neo4j_wipe_out_database()"
   ]
  },
  {
   "cell_type": "markdown",
   "metadata": {
    "id": "3LTZx4ubaC_y"
   },
   "source": [
    "### Create graphs from csv station files"
   ]
  },
  {
   "cell_type": "markdown",
   "metadata": {
    "id": "sFlXG1m2ZrHk"
   },
   "source": [
    "#### Query the list of stations and create the departure and arrival nodes in the graph\n",
    "\n",
    "Use the query from 3.2.1 \"Query the list of stations\"\n",
    "\n",
    "For each station X, create two nodes:\n",
    "* depart X\n",
    "* arrive X\n",
    "\n",
    "Use the function my_neo4j_create_node() defined above\n",
    "\n",
    "For example, West Oakland:\n",
    "* my_neo4j_create_node('depart West Oakland')\n",
    "* my_neo4j_create_node('arrive West Oakland')"
   ]
  },
  {
   "cell_type": "code",
   "execution_count": null,
   "metadata": {
    "id": "eF7yozaqZrxz"
   },
   "outputs": [],
   "source": [
    "connection.rollback()\n",
    "\n",
    "query = \"\"\"\n",
    "\n",
    "select station\n",
    "from stations\n",
    "order by station\n",
    "\n",
    "\"\"\"\n",
    "\n",
    "cursor.execute(query)\n",
    "\n",
    "connection.rollback()\n",
    "\n",
    "rows = cursor.fetchall()\n",
    "\n",
    "for row in rows:\n",
    "    \n",
    "    station = row[0]\n",
    "    \n",
    "    my_neo4j_create_node('depart ' + station)\n",
    "    my_neo4j_create_node('arrive ' + station)"
   ]
  },
  {
   "cell_type": "markdown",
   "metadata": {
    "id": "0NdAVKkBaSS2"
   },
   "source": [
    "#### Query the list of stations and the lines they serve, create line nodes, and create relationships between the line nodes and the departure and arrival nodes with weight 0\n",
    "\n",
    "Use the query from \"Query the list of stations and the lines they serve\"\n",
    "\n",
    "For each station X and each line Y that the station serves:\n",
    "* Create a line node\n",
    "* Create a relationship from the departure node to the line node with weight 0\n",
    "* Create a relationship from the line node to the arrival node with weight 0\n",
    "\n",
    "Use the function my_neo4j_create_relationship_one_way() defined above to create the relationships"
   ]
  },
  {
   "cell_type": "code",
   "execution_count": null,
   "metadata": {
    "id": "Kj7iRn2CajaO"
   },
   "outputs": [],
   "source": [
    "connection.rollback()\n",
    "\n",
    "query = \"\"\"\n",
    "\n",
    "select station, line\n",
    "from lines\n",
    "order by station, line\n",
    "\n",
    "\"\"\"\n",
    "\n",
    "cursor.execute(query)\n",
    "\n",
    "connection.rollback()\n",
    "\n",
    "rows = cursor.fetchall()\n",
    "\n",
    "for row in rows:\n",
    "    \n",
    "    station = row[0]\n",
    "    line = row[1]\n",
    "    \n",
    "    depart = 'depart ' + station\n",
    "    arrive = 'arrive ' + station\n",
    "    line_station = line + ' ' + station\n",
    "    \n",
    "    my_neo4j_create_node(line_station)\n",
    "    my_neo4j_create_relationship_one_way(depart, line_station, 0)\n",
    "    my_neo4j_create_relationship_one_way(line_station, arrive, 0)"
   ]
  },
  {
   "cell_type": "markdown",
   "metadata": {
    "id": "W5rVOI2WaoUf"
   },
   "source": [
    "#### Query the list of all possible line transfers and the transfer times, create a relationship for each transfer with the transfer time as the weight\n",
    "\n",
    "Use the query from 3.2.5 \"Query the list of all possible line transfers and the transfer times\"\n",
    "\n",
    "For each station X, from line Y, to line Z, create a relationship from Y's line node to Z's line node with the weight set to the transfer time"
   ]
  },
  {
   "cell_type": "code",
   "execution_count": null,
   "metadata": {
    "id": "441E_3e8azho"
   },
   "outputs": [],
   "source": [
    "connection.rollback()\n",
    "\n",
    "query = \"\"\"\n",
    "\n",
    "select a.station, a.line as from_line, b.line as to_line, s.transfer_time\n",
    "from lines a\n",
    "     join lines b\n",
    "       on a.station = b.station and a.line <> b.line \n",
    "     join stations s\n",
    "       on a.station = s.station\n",
    "order by 1, 2, 3\n",
    "\n",
    "\"\"\"\n",
    "\n",
    "cursor.execute(query)\n",
    "\n",
    "connection.rollback()\n",
    "\n",
    "rows = cursor.fetchall()\n",
    "\n",
    "for row in rows:\n",
    "    \n",
    "    station = row[0]\n",
    "    from_line = row[1]\n",
    "    to_line = row[2]\n",
    "    transfer_time = int(row[3])\n",
    "    \n",
    "    from_station = from_line + ' ' + station\n",
    "    to_station = to_line + ' ' + station\n",
    "    \n",
    "    my_neo4j_create_relationship_one_way(from_station, to_station, transfer_time)"
   ]
  },
  {
   "cell_type": "markdown",
   "metadata": {
    "id": "HkwalSiQbB3k"
   },
   "source": [
    "#### Query the list of all segments between each station and its adjoining stations, create a relationship for each segment both ways\n",
    "\n",
    "Use the query from 3.2.7 \"Query the list of all segments between each station and its adjoining stations\"\n",
    "\n",
    "For each segment from station X to station Y on line Z, create two relationships:\n",
    "* From X's line node to Y's line node with travel time\n",
    "* From Y's line node to X's line node with travel time\n",
    "\n",
    "Use the function my_neo4j_create_relationship_two_way() defined above which will create both relationships "
   ]
  },
  {
   "cell_type": "code",
   "execution_count": null,
   "metadata": {
    "id": "g7WFOQNibD6D"
   },
   "outputs": [],
   "source": [
    "connection.rollback()\n",
    "\n",
    "query = \"\"\"\n",
    "\n",
    "select a.line, a.station as from_station, b.station as to_station, t.travel_time\n",
    "from lines a\n",
    "  join lines b\n",
    "    on a.line = b.line and b.sequence = (a.sequence + 1)\n",
    "  join travel_times t\n",
    "    on (a.station = t.station_1 and b.station = t.station_2)\n",
    "        or (a.station = t.station_2 and b.station = t.station_1)\n",
    "order by line, from_station, to_station\n",
    "\n",
    "\"\"\"\n",
    "\n",
    "cursor.execute(query)\n",
    "\n",
    "connection.rollback()\n",
    "\n",
    "rows = cursor.fetchall()\n",
    "\n",
    "for row in rows:\n",
    "    \n",
    "    line = row[0]\n",
    "    from_station = line + ' ' + row[1]\n",
    "    to_station = line + ' ' + row[2]\n",
    "    travel_time = int(row[3])\n",
    "    \n",
    "    my_neo4j_create_relationship_two_way(from_station, to_station, travel_time)"
   ]
  },
  {
   "cell_type": "markdown",
   "metadata": {
    "id": "qD5mih00Y2rq"
   },
   "source": [
    "### Begin PROJECT 3 CODE HERE"
   ]
  },
  {
   "cell_type": "markdown",
   "metadata": {
    "id": "HRmTGdFJbniQ"
   },
   "source": [
    "#### Define search algorithms"
   ]
  },
  {
   "cell_type": "code",
   "execution_count": null,
   "metadata": {
    "id": "ITOO8aRkY9R9"
   },
   "outputs": [],
   "source": [
    "# ************************************************************************************************************\n",
    "# Shortest Path algorithm from W205 labs - uses dijkstra\n",
    "# ************************************************************************************************************\n",
    "def my_neo4j_shortest_path(from_station, to_station):\n",
    "    \"given a from station and to station, run and print the shortest path\"\n",
    "    \n",
    "    query = \"CALL gds.graph.drop('ds_graph', false)\"\n",
    "    session.run(query)\n",
    "\n",
    "    query = \"CALL gds.graph.project('ds_graph', 'Station', 'LINK', {relationshipProperties: 'weight'})\"\n",
    "    session.run(query)\n",
    "\n",
    "    query = \"\"\"\n",
    "\n",
    "    MATCH (source:Station {name: $source}), (target:Station {name: $target})\n",
    "    CALL gds.shortestPath.dijkstra.stream(\n",
    "        'ds_graph', \n",
    "        { sourceNode: source, \n",
    "          targetNode: target, \n",
    "          relationshipWeightProperty: 'weight'\n",
    "        }\n",
    "    )\n",
    "    YIELD index, sourceNode, targetNode, totalCost, nodeIds, costs, path\n",
    "    RETURN\n",
    "        gds.util.asNode(sourceNode).name AS from,\n",
    "        gds.util.asNode(targetNode).name AS to,\n",
    "        totalCost,\n",
    "        [nodeId IN nodeIds | gds.util.asNode(nodeId).name] AS nodes,\n",
    "        costs\n",
    "    ORDER BY index\n",
    "\n",
    "    \"\"\"\n",
    "\n",
    "    result = session.run(query, source=from_station, target=to_station)\n",
    "    \n",
    "    for r in result:\n",
    "        \n",
    "        total_cost = int(r['totalCost'])\n",
    "        \n",
    "        print(\"\\n--------------------------------\")\n",
    "        print(\"   Total Cost: \", total_cost)\n",
    "        print(\"   Minutes: \", round(total_cost / 60.0,1))\n",
    "        print(\"--------------------------------\")\n",
    "        \n",
    "        nodes = r['nodes']\n",
    "        costs = r['costs']\n",
    "        \n",
    "        i = 0\n",
    "        previous = 0\n",
    "        \n",
    "        for n in nodes:\n",
    "            \n",
    "            print(n + \", \" + str(int(costs[i]) - previous)  + \", \" + str(int(costs[i])))\n",
    "            \n",
    "            previous = int(costs[i])\n",
    "            i += 1"
   ]
  },
  {
   "cell_type": "code",
   "execution_count": null,
   "metadata": {},
   "outputs": [],
   "source": [
    "# ***************************************************************************\n",
    "# UNIT TEST dijkstra shortest path\n",
    "# ***************************************************************************\n",
    "my_neo4j_shortest_path(\"depart Ashby\",\"arrive West Oakland\")"
   ]
  },
  {
   "cell_type": "code",
   "execution_count": null,
   "metadata": {},
   "outputs": [],
   "source": [
    "# ***************************************************************************\n",
    "# Minimum Spanning Tree\n",
    "# ***************************************************************************\n",
    "def my_neo4j_mst(station):\n",
    "    \"wipe out mst relationships\"\n",
    "    \n",
    "    query = \"match (node)-[relationship:MST]->() delete relationship\"\n",
    "    session.run(query)\n",
    "    \n",
    "    query = \"CALL gds.graph.drop('ds_graph', false)\"\n",
    "    session.run(query)\n",
    "\n",
    "    query = \"CALL gds.graph.project('ds_graph', 'Station', 'LINK', {relationshipProperties: 'weight'})\"\n",
    "    session.run(query)\n",
    "    \n",
    "    query = \"\"\"\n",
    "\n",
    "    MATCH (n:Station {name: $source})\n",
    "    CALL gds.alpha.spanningTree.minimum.write('ds_graph',\n",
    "                                          {startNodeId: id(n),\n",
    "                                           relationshipWeightProperty: 'weight',\n",
    "                                           writeProperty: 'MST',\n",
    "                                           weightWriteProperty: 'writeCost'\n",
    "                                          }\n",
    "                                         )\n",
    "    YIELD preProcessingMillis, computeMillis, writeMillis, effectiveNodeCount\n",
    "    RETURN preProcessingMillis, computeMillis, writeMillis, effectiveNodeCount;\n",
    "    \"\"\"\n",
    "    session.run(query,source=station)\n",
    "    \n",
    "    query = \"\"\"\n",
    "\n",
    "    MATCH path = (n:Station {name: $source})-[:MST*]-()\n",
    "    WITH relationships(path) AS rels\n",
    "    UNWIND rels AS rel\n",
    "    WITH DISTINCT rel AS rel\n",
    "    RETURN startNode(rel).name AS source, endNode(rel).name AS destination, rel.writeCost AS cost\n",
    "\n",
    "    \"\"\"\n",
    "    \n",
    "    session.run(query,source=station)"
   ]
  },
  {
   "cell_type": "code",
   "execution_count": null,
   "metadata": {},
   "outputs": [],
   "source": [
    "# ******************************************************************************************\n",
    "# UNIT TEST Minimum Spanning Tree\n",
    "# ******************************************************************************************\n",
    "my_neo4j_mst(\"depart Ashby\")"
   ]
  },
  {
   "cell_type": "code",
   "execution_count": null,
   "metadata": {},
   "outputs": [],
   "source": [
    "# ******************************************************************************************\n",
    "# ADD ADDITIONAL neo4j gds algorithms and use directly in the business scenarios\n",
    "# ******************************************************************************************"
   ]
  },
  {
   "cell_type": "markdown",
   "metadata": {
    "id": "MV1j0aPBcfX1"
   },
   "source": [
    "#### Project To Do\n",
    "1. Add modules to injest real time traffic data (use Redis or Redis fixed document as a proxy)\n",
    "2. Import train schedules, planned route outages (use MongoDB)\n",
    "3. Based on 1 and 2 create new graphs or modify cost / weights across nodes on existing graphs to eliminate paths and change time cost across nodes\n",
    "4. Create 3 or more search, sort algorithms. Use the above as a template\n",
    "5. Overlay Google maps API\n"
   ]
  },
  {
   "cell_type": "markdown",
   "metadata": {},
   "source": [
    "#### Business Scenario 1\n",
    "\n",
    "Select customers from the customers table who are within the BART transportation region\n",
    "\n",
    "Run EDA using neo4j\n",
    "   * Find clusters of customers, where concentrated most\n",
    "   * Find nearest and furthest BART station to the clusters\n",
    "   * Recommend pop up stores and new permanent locations"
   ]
  },
  {
   "cell_type": "code",
   "execution_count": null,
   "metadata": {},
   "outputs": [],
   "source": [
    "# ***********************************************************************************************************************\n",
    "# Business Scenario 1\n",
    "#\n",
    "# Pseudocode:\n",
    "#\n",
    "# 1. Get list of unique zip codes associated to the set of BART stations using lat lon of station locations\n",
    "#   -- lat lon from station table\n",
    "# 2. From the customers table, find all customers with zip codes in the list of zip codes\n",
    "# 3. Prepare histogram of customer counts per zip code\n",
    "# 4. Create neo4j graph of nodes for zip codes along with graph of stations \n",
    "#   -- connect zip code nodes to station nodes with links indicating distance so distance from zip to station within \n",
    "#      same zip should be 0\n",
    "#   -- refine further ... use customer address (and google maps api?) to compute actual distance to each BART station\n",
    "# 5. Can we use any of the centrality type measures for this scenario?\n",
    "# 6. refine further ... use customer address (and google maps api?) to compute actual distance to each BART station\n",
    "#\n",
    "# Notes:\n",
    "#   Reverse zip code locator code from: \n",
    "#   https://www.geeksforgeeks.org/find-the-location-with-specified-latitude-and-longitude-using-python/\n",
    "#   https://www.geeksforgeeks.org/get-the-city-state-and-country-names-from-latitude-and-longitude-using-python/?ref=rp\n",
    "# **********************************************************************************************************************\n",
    "def neo4j_create_node(station_name,zip_code=\"\",tt=0,pop=0):\n",
    "    \"create a node with label Station\"\n",
    "    \n",
    "    query = \"\"\"\n",
    "    \n",
    "    CREATE (:Station {name: $station_name, zip: $zip_code, pop: $pop, transfer_time: $tt})\n",
    "    \n",
    "    \"\"\"\n",
    "    \n",
    "    session.run(query, station_name=station_name,zip_code=zip_code,pop=pop,tt=tt)\n",
    "    \n",
    "def find_customer_count(zipcode):\n",
    "    connection.rollback()\n",
    "\n",
    "    rollback_before_flag = True\n",
    "    rollback_after_flag = True\n",
    "\n",
    "    query = \"\"\" \n",
    "    select zip, count(*)\n",
    "    from customers\n",
    "    where zip = '%s'\n",
    "    group by zip\n",
    "    order by zip\n",
    "    \"\"\".replace(\"%s\",zipcode)\n",
    "    \n",
    "    df_count = my_select_query_pandas(query, rollback_before_flag, rollback_after_flag)\n",
    "    \n",
    "    return df_count['count']\n",
    "\n",
    "\n",
    "def neo4j_create_station():\n",
    "    connection.rollback()\n",
    "\n",
    "    query = \"\"\"\n",
    "\n",
    "    select station, latitude, longitude, transfer_time\n",
    "    from stations\n",
    "    order by station\n",
    "\n",
    "    \"\"\"\n",
    "\n",
    "    cursor.execute(query)\n",
    "\n",
    "    connection.rollback()\n",
    "\n",
    "    rows = cursor.fetchall()\n",
    "\n",
    "    for row in rows:\n",
    "    \n",
    "        station = row[0]\n",
    "        lat = row[1]\n",
    "        lon = row[2]\n",
    "        tt = row[3]\n",
    "        \n",
    "        # Find Zip code\n",
    "        location = geolocator.reverse(str(lat)+\",\"+str(lon))\n",
    "        address = location.raw['address']\n",
    "        zipcode = address.get('postcode')\n",
    "        \n",
    "        # Find number of customers\n",
    "        #if zipcode == None:\n",
    "        #    pop = 0\n",
    "        #else:\n",
    "        #    pop = find_customer_count(zipcode)\n",
    "        \n",
    "        #neo4j_create_node(station,zipcode,str(tt),str(pop))\n",
    "        neo4j_create_node(station,zipcode,str(tt),0)\n",
    "\n",
    "def neo4j_create_zip_node(node_name, attr):\n",
    "    \"create a node with label Station\"\n",
    "    \n",
    "    #query = \"\\\"\\\" CREATE (:\"+str(attr)+\" {name: \" + str(node_name) + \"}) \\\"\\\" \"\n",
    "    \n",
    "    query = \"\"\"\n",
    "    CREATE (:Zip {name: $name})\n",
    "    \"\"\"\n",
    "    \n",
    "    session.run(query,name=node_name)\n",
    "\n",
    "def neo4j_create_relationship_one_way(from_node, to_node, weight):\n",
    "    \"create a relationship one way between two stations with a weight\"\n",
    "    \n",
    "    query = \"\"\"\n",
    "    \n",
    "    MATCH (from:Zip), \n",
    "          (to:Zip)\n",
    "    WHERE from.name = $from_node and to.name = $to_node\n",
    "    CREATE (from)-[:LINK {weight: $weight}]->(to)\n",
    "    \n",
    "    \"\"\"\n",
    "    \n",
    "    session.run(query, from_node=from_node, to_node=to_node, weight=weight)\n",
    "\n",
    "def get_station_name_by_zip(zipcode):\n",
    "    query = \"\"\"\n",
    "    \n",
    "    MATCH(n:Station {zip: $zipcode}) \n",
    "    RETURN n.name\n",
    "    \"\"\"\n",
    "    \n",
    "    res = session.run(query, zipcode=zipcode)\n",
    "        \n",
    "    return([record[\"n.name\"] for record in res])\n",
    "\n",
    "def neo4j_add_pop_attribute(node_name, pop_value):\n",
    "    \n",
    "    #print(node_name[0])\n",
    "    #query = \"\"\"\n",
    "    \n",
    "    #MATCH(n:Station {name: $node_name}) \n",
    "    #SET n.pop = $pop_value\n",
    "    #\"\"\"\n",
    "\n",
    "    #session.run(query, node_name=node_name, pop_value=pop_value)\n",
    "    \n",
    "    query = \"\"\"\n",
    "    \n",
    "    MATCH(n:Station {name: '%s'}) \n",
    "    SET n.pop = '%t'\n",
    "    \"\"\".replace(\"%s\",str(node_name[0])).replace(\"%t\",str(pop_value))\n",
    "    \n",
    "    #print(query)\n",
    "    session.run(query)\n",
    "\n",
    "def neo4j_find_travel_time(station1, station2):\n",
    "    print(str(station1) + \",\" + str(station2))\n",
    "    connection.rollback()\n",
    "\n",
    "    rollback_before_flag = True\n",
    "    rollback_after_flag = True\n",
    "\n",
    "    query = \"\"\" \n",
    "    select travel_time\n",
    "    from travel_times\n",
    "    where (station_1 = '%s1' and station_2 = '%s2') or (station_1 = '%s2' and station_2 = '%s1')\n",
    "    \"\"\".replace(\"%s1\",station1).replace(\"%s2\",station2)\n",
    "    \n",
    "    df_tt = my_select_query_pandas(query, rollback_before_flag, rollback_after_flag)\n",
    "    \n",
    "    print(df_tt['travel_time'][0])\n",
    "    return (df_tt['travel_time'][0])"
   ]
  },
  {
   "cell_type": "code",
   "execution_count": null,
   "metadata": {},
   "outputs": [],
   "source": [
    "# *********************************************************\n",
    "# UNIT TEST\n",
    "# *********************************************************\n",
    "neo4j_find_travel_time(\"MacArthur\", \"Ashby\")"
   ]
  },
  {
   "cell_type": "code",
   "execution_count": null,
   "metadata": {},
   "outputs": [],
   "source": []
  },
  {
   "cell_type": "code",
   "execution_count": null,
   "metadata": {},
   "outputs": [],
   "source": [
    "\n"
   ]
  },
  {
   "cell_type": "code",
   "execution_count": null,
   "metadata": {},
   "outputs": [],
   "source": [
    "# ***********************************************************************************************************************\n",
    "# 1. Get list of unique zip codes associated to the set of BART stations using lat lon of station locations\n",
    "#   -- lat lon from station table\n",
    "# ***********************************************************************************************************************\n",
    "\n",
    "connection.rollback()\n",
    "\n",
    "query = \"\"\"\n",
    "\n",
    "select latitude, longitude, station\n",
    "from stations\n",
    "\n",
    "\"\"\"\n",
    "cursor.execute(query)\n",
    "connection.rollback()\n",
    "rows = cursor.fetchall()\n",
    "\n",
    "zips = []\n",
    "\n",
    "for i, row in enumerate(rows):\n",
    "    location = geolocator.reverse(str(row[0])+\",\"+str(row[1]))\n",
    "    address = location.raw['address']\n",
    "    #city = address.get('city', '')\n",
    "    #state = address.get('state', '')\n",
    "    #country = address.get('country', '')\n",
    "    #code = address.get('country_code')\n",
    "    zipcode = address.get('postcode')\n",
    "    #print(i)\n",
    "    #print('City : ',city)\n",
    "    #print('State : ',state)\n",
    "    #print('Country : ',country)\n",
    "    #print('Zip Code : ', zipcode)\n",
    "    \n",
    "    if zipcode == None:\n",
    "      continue\n",
    "    zips.append(zipcode)\n",
    "    \n",
    "zips_unique = set(zips)\n",
    "print(zips_unique)"
   ]
  },
  {
   "cell_type": "code",
   "execution_count": null,
   "metadata": {},
   "outputs": [],
   "source": [
    "# ***********************************************************************************************************************\n",
    "# 2. From the customers table, find all customers with zip codes in the list of zip codes\n",
    "# ***********************************************************************************************************************\n",
    "#print(zips_unique)\n",
    "#print(zips)\n",
    "\n",
    "zip_list = ''\n",
    "for z in zips_unique:\n",
    "    zip_list += '\\'' + str(z) + '\\'' + ','\n",
    "\n",
    "zip_list = zip_list[:-1] # remove extra last comma\n",
    "\n",
    "rollback_before_flag = True\n",
    "rollback_after_flag = True\n",
    "\n",
    "query = \"\"\" \n",
    "select zip, count(*)\n",
    "from customers\n",
    "where zip in (%s)\n",
    "group by zip\n",
    "order by zip\n",
    "\"\"\".replace(\"%s\",zip_list)\n",
    "\n",
    "df_customers = my_select_query_pandas(query, rollback_before_flag, rollback_after_flag)\n",
    "df_customers"
   ]
  },
  {
   "cell_type": "code",
   "execution_count": null,
   "metadata": {},
   "outputs": [],
   "source": [
    "# ***********************************************************************************************************************\n",
    "# 3. Prepare barplot of customer counts per zip code\n",
    "# **********************************************************************************************************************\n",
    "\n",
    "df_customers.set_index(df_customers['zip'],inplace=True)\n",
    "df_customers.plot(kind='bar',figsize=(12,6),title='AGM Customers per Zip Code').grid(axis='y')\n",
    "plt.xlabel('Zip Codes')\n",
    "plt.ylabel('Number of Customers')\n",
    "plt.xticks(rotation=90)\n",
    "plt.show()"
   ]
  },
  {
   "cell_type": "code",
   "execution_count": null,
   "metadata": {},
   "outputs": [],
   "source": [
    "# **********************************************************************************************************************\n",
    "# 4a. Create neo4j graph of nodes for zip codes along with graph of stations \n",
    "#   -- connect zip code nodes to station nodes with links indicating distance so distance from zip to station within \n",
    "#      same zip should be 0\n",
    "#   \n",
    "# **********************************************************************************************************************\n",
    "my_neo4j_wipe_out_database()\n",
    "neo4j_create_station()"
   ]
  },
  {
   "cell_type": "code",
   "execution_count": null,
   "metadata": {},
   "outputs": [],
   "source": [
    "# **********************************************************************************************************************\n",
    "# 4b. Add zip code to each station node based on station name \n",
    "# **********************************************************************************************************************\n",
    "for i,z in enumerate(df_customers['zip']):\n",
    "    #neo4j_create_node(z,\"Count\")\n",
    "    #neo4j_create_relationship_one_way(z, z, str(df_customers['count'][i]))\n",
    "   \n",
    "    node_name = get_station_name_by_zip(z)\n",
    "    pop_value = str(df_customers['count'][i])\n",
    "    \n",
    "    #print(pop_value)\n",
    "    neo4j_add_pop_attribute(node_name, pop_value)\n"
   ]
  },
  {
   "cell_type": "code",
   "execution_count": null,
   "metadata": {},
   "outputs": [],
   "source": [
    "def neo4j_create_relationship(from_node, to_node, color, weight):\n",
    "    \"create a relationship between two stations with a weight:travel time\"\n",
    "    \n",
    "    if color == 'blue':\n",
    "        query = \"\"\"\n",
    "    \n",
    "        MATCH (from:Station), \n",
    "          (to:Station)\n",
    "        WHERE from.name = $from_node and to.name = $to_node\n",
    "        CREATE (to)-[:BLUE {weight: $weight}]->(from)-[:BLUE {weight: $weight}]->(to)\n",
    "    \n",
    "        \"\"\"\n",
    "    elif color == 'gray':\n",
    "        query = \"\"\"\n",
    "    \n",
    "        MATCH (from:Station), \n",
    "          (to:Station)\n",
    "        WHERE from.name = $from_node and to.name = $to_node\n",
    "        CREATE (to)-[:GRAY {weight: $weight}]->(from)-[:GRAY {weight: $weight}]->(to)\n",
    "    \n",
    "        \"\"\"\n",
    "    elif color == 'green':\n",
    "        query = \"\"\"\n",
    "    \n",
    "        MATCH (from:Station), \n",
    "          (to:Station)\n",
    "        WHERE from.name = $from_node and to.name = $to_node\n",
    "        CREATE (to)-[:GREEN {weight: $weight}]->(from)-[:GREEN {weight: $weight}]->(to)\n",
    "    \n",
    "        \"\"\"\n",
    "    \n",
    "    elif color == 'orange':\n",
    "        query = \"\"\"\n",
    "    \n",
    "        MATCH (from:Station), \n",
    "          (to:Station)\n",
    "        WHERE from.name = $from_node and to.name = $to_node\n",
    "        CREATE (to)-[:ORANGE {weight: $weight}]->(from)-[:ORANGE {weight: $weight}]->(to)\n",
    "    \n",
    "        \"\"\"\n",
    "    \n",
    "    elif color == 'red':\n",
    "        query = \"\"\"\n",
    "    \n",
    "        MATCH (from:Station), \n",
    "          (to:Station)\n",
    "        WHERE from.name = $from_node and to.name = $to_node\n",
    "        CREATE (to)-[:RED {weight: $weight}]->(from)-[:RED {weight: $weight}]->(to)\n",
    "    \n",
    "        \"\"\"\n",
    "    \n",
    "    elif color == 'yellow':\n",
    "        query = \"\"\"\n",
    "    \n",
    "        MATCH (from:Station), \n",
    "          (to:Station)\n",
    "        WHERE from.name = $from_node and to.name = $to_node\n",
    "        CREATE (to)-[:YELLOW {weight: $weight}]->(from)-[:YELLOW {weight: $weight}]->(to)\n",
    "    \n",
    "        \"\"\"\n",
    "    \n",
    "    else:\n",
    "        return\n",
    "    \n",
    "    session.run(query, from_node=from_node, to_node=to_node, weight=weight)"
   ]
  },
  {
   "cell_type": "code",
   "execution_count": null,
   "metadata": {},
   "outputs": [],
   "source": [
    "# *****************************************\n",
    "# UNIT TEST\n",
    "# *****************************************\n",
    "neo4j_create_relationship(\"Ashby\", \"MacArthur\", \"red\", 80)"
   ]
  },
  {
   "cell_type": "code",
   "execution_count": null,
   "metadata": {},
   "outputs": [],
   "source": [
    "# **********************************************************************************************************************\n",
    "# 4c. Link stations, add travel time and line color attribute to links\n",
    "# **********************************************************************************************************************\n",
    "line_colors = ['blue','gray','green','orange','red','yellow']\n",
    "\n",
    "connection.rollback()\n",
    "\n",
    "rollback_before_flag = True\n",
    "rollback_after_flag = True\n",
    "\n",
    "for lc in line_colors:\n",
    "    query = \"\"\" \n",
    "    select sequence, station\n",
    "    from lines\n",
    "    where line = '%s'\n",
    "    \"\"\".replace(\"%s\",lc)\n",
    "    \n",
    "    df_line = my_select_query_pandas(query, rollback_before_flag, rollback_after_flag)\n",
    "    \n",
    "    cnt = len(df_line['station'])\n",
    "    \n",
    "    if cnt > 1:\n",
    "        for i in range (cnt-1):\n",
    "            #print(df_line['station'][i])\n",
    "            #print(df_line['station'][i+1])\n",
    "            stn1 = df_line['station'][i]\n",
    "            stn2 = df_line['station'][i+1]\n",
    "            \n",
    "            #print(str(stn1) + \",\" + str(stn2))\n",
    "            tt = neo4j_find_travel_time(stn1, stn2)\n",
    "            #print(tt)\n",
    "            neo4j_create_relationship(stn1,stn2,lc,str(tt))\n",
    "    else:\n",
    "        continue\n",
    "        "
   ]
  },
  {
   "cell_type": "markdown",
   "metadata": {},
   "source": [
    "#### Business Scenario 2\n",
    "\n",
    "Given traffic congestion \"real time\" data, compute shortest BART transportation path to avoid congestion\n",
    "\n",
    "* Import traffic data either from Redis or canned file\n",
    "* Update weights on links to make congested paths more costly\n",
    "* Run shortest path (or other) algorithms\n",
    "   \n",
    " (Traffic congestion data -- extreme, high, medium, low as input feed. Update transit times by\n",
    " factors of 100, 10, 2, 1. Run route planning algorithm based on congestion.)\n"
   ]
  },
  {
   "cell_type": "code",
   "execution_count": null,
   "metadata": {},
   "outputs": [],
   "source": [
    "# **********************************************************************************************************************\n",
    "# Business Scenario 2\n",
    "#\n",
    "# Given traffic congestion \"real time\" data, compute shortest \n",
    "# BART transportation path to avoid congestion\n",
    "#\n",
    "# Import traffic data either from Redis or canned file\n",
    "# Update weights on links to make congested paths more costly\n",
    "# Run shortest path (or other) algorithms\n",
    "#   \n",
    "# (Traffic congestion data -- extreme, high, medium, low as input feed. Update transit times by\n",
    "# factors of 100, 10, 2, 1. Run route planning algorithm based on congestion.)\n",
    "# *********************************************************************************************************************"
   ]
  },
  {
   "cell_type": "code",
   "execution_count": null,
   "metadata": {},
   "outputs": [],
   "source": [
    "# ADD SCENARIO 2"
   ]
  },
  {
   "cell_type": "markdown",
   "metadata": {},
   "source": [
    "#### Business Scenario 3\n",
    "Given scheduled station closures and track segment out of service, re-evaluate best locations for popup locations or perhaps deploy delivery robots to pick up from those locations not accessible to customers and bring products to open locations. For example, if Oakland marathon is running with street closures, customers cannot access some areas of the city.\n",
    "\n",
    "* Import schedule file (from Redis, MongoDB or canned CSV file)\n",
    "* Use file remove stations from neo4j however do not remove associated pickup location thereby causing a dangling node without a link.\n",
    "* Deploy mobile robots to dangling nodes and deliver product to nearest open pickup location\n",
    "* Compute next nearest location also accounting for removed Links due to planned track maintenance"
   ]
  },
  {
   "cell_type": "code",
   "execution_count": null,
   "metadata": {},
   "outputs": [],
   "source": [
    "# *********************************************************************************************************************\n",
    "# Business Scenario 3\n",
    "#\n",
    "# Given scheduled station closures and track segment out of service,  \n",
    "# re-evaluate best locations for popup locations or perhaps deploy\n",
    "# delivery robots to pick up from those locations not accessible to\n",
    "# customers and bring products to open locations.  For example, if\n",
    "# Oakland marathon is running with street closures, customers cannot \n",
    "# access some areas of the city.\n",
    "#\n",
    "# Import schedule file (from Redis, MongoDB or canned CSV file)\n",
    "# Use file remove stations from neo4j however do not remove associated pickup location \n",
    "#   thereby causing a dangling node without a link.\n",
    "# Deploy mobile robots to dangling nodes and deliver product to nearest open pickup location\n",
    "# Compute next nearest location also accounting for removed Links due to planned\n",
    "#   track maintenance\n",
    "#   \n",
    "# ********************************************************************************************************************"
   ]
  },
  {
   "cell_type": "code",
   "execution_count": null,
   "metadata": {},
   "outputs": [],
   "source": [
    "# ADD SCENARIO 3"
   ]
  }
 ],
 "metadata": {
  "colab": {
   "collapsed_sections": [
    "WKZg9tATkmmv",
    "UgdozJdsYZzu",
    "HkwalSiQbB3k",
    "HRmTGdFJbniQ",
    "MV1j0aPBcfX1"
   ],
   "provenance": []
  },
  "kernelspec": {
   "display_name": "Python 3 (ipykernel)",
   "language": "python",
   "name": "python3"
  },
  "language_info": {
   "codemirror_mode": {
    "name": "ipython",
    "version": 3
   },
   "file_extension": ".py",
   "mimetype": "text/x-python",
   "name": "python",
   "nbconvert_exporter": "python",
   "pygments_lexer": "ipython3",
   "version": "3.9.7"
  }
 },
 "nbformat": 4,
 "nbformat_minor": 1
}

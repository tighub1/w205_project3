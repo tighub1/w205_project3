{
 "cells": [
  {
   "cell_type": "markdown",
   "metadata": {
    "id": "TfPnGDJ3hENr"
   },
   "source": [
    "# W205 Project 3\n",
    "## AGM Business Improvement\n",
    "\n",
    "### Team Members\n",
    "#### Siddhartha Gupte\n",
    "#### Kumar Kallurupalli\n",
    "#### Tigran Poladian\n",
    "\n",
    "Data science demonstration for the AGM data science team using the BART transportation system.\n",
    "\n",
    "### BART TRACK LAYOUT\n",
    "\n",
    "![Bart Map](../data/bart_map.png)"
   ]
  },
  {
   "cell_type": "code",
   "execution_count": 30,
   "metadata": {},
   "outputs": [
    {
     "name": "stdout",
     "output_type": "stream",
     "text": [
      "Collecting geopy\n",
      "  Downloading geopy-2.3.0-py3-none-any.whl (119 kB)\n",
      "\u001b[K     |████████████████████████████████| 119 kB 4.6 MB/s eta 0:00:01\n",
      "\u001b[?25hRequirement already satisfied: geographiclib<3,>=1.52 in /opt/conda/lib/python3.9/site-packages (from geopy) (2.0)\n",
      "Installing collected packages: geopy\n",
      "Successfully installed geopy-2.3.0\n",
      "\u001b[33mWARNING: Running pip as the 'root' user can result in broken permissions and conflicting behaviour with the system package manager. It is recommended to use a virtual environment instead: https://pip.pypa.io/warnings/venv\u001b[0m\n",
      "Note: you may need to restart the kernel to use updated packages.\n"
     ]
    }
   ],
   "source": [
    "pip install geopy"
   ]
  },
  {
   "cell_type": "code",
   "execution_count": 31,
   "metadata": {
    "colab": {
     "base_uri": "https://localhost:8080/",
     "height": 368
    },
    "id": "hU69GAg6hFsT",
    "outputId": "8fc3dadf-fd16-4785-b29a-3f5709d7e5e4"
   },
   "outputs": [],
   "source": [
    "import neo4j\n",
    "import csv\n",
    "import math\n",
    "import numpy as np\n",
    "import pandas as pd\n",
    "\n",
    "import psycopg2\n",
    "\n",
    "import pymongo\n",
    "\n",
    "import json\n",
    "\n",
    "import geopy\n",
    "from geopy.geocoders import Nominatim"
   ]
  },
  {
   "cell_type": "markdown",
   "metadata": {
    "id": "WKZg9tATkmmv"
   },
   "source": [
    "### Support Functions\n",
    "Reused from W205 Code / Labs"
   ]
  },
  {
   "cell_type": "code",
   "execution_count": 2,
   "metadata": {
    "id": "usRPRbxpVXP5"
   },
   "outputs": [],
   "source": [
    "connection = psycopg2.connect(\n",
    "    user = \"postgres\",\n",
    "    password = \"ucb\",\n",
    "    host = \"postgres\",\n",
    "    port = \"5432\",\n",
    "    database = \"postgres\"\n",
    ")\n",
    "\n",
    "cursor = connection.cursor()"
   ]
  },
  {
   "cell_type": "code",
   "execution_count": 3,
   "metadata": {
    "id": "x2Io5gh3hwKK"
   },
   "outputs": [],
   "source": [
    "#\n",
    "# function to run a select query and return rows in a pandas dataframe\n",
    "# pandas puts all numeric values from postgres to float\n",
    "# if it will fit in an integer, change it to integer\n",
    "#\n",
    "\n",
    "def my_select_query_pandas(query, rollback_before_flag, rollback_after_flag):\n",
    "    \"function to run a select query and return rows in a pandas dataframe\"\n",
    "    \n",
    "    if rollback_before_flag:\n",
    "        connection.rollback()\n",
    "    \n",
    "    df = pd.read_sql_query(query, connection)\n",
    "    \n",
    "    if rollback_after_flag:\n",
    "        connection.rollback()\n",
    "    \n",
    "    # fix the float columns that really should be integers\n",
    "    \n",
    "    for column in df:\n",
    "    \n",
    "        if df[column].dtype == \"float64\":\n",
    "\n",
    "            fraction_flag = False\n",
    "\n",
    "            for value in df[column].values:\n",
    "                \n",
    "                if not np.isnan(value):\n",
    "                    if value - math.floor(value) != 0:\n",
    "                        fraction_flag = True\n",
    "\n",
    "            if not fraction_flag:\n",
    "                df[column] = df[column].astype('Int64')\n",
    "    \n",
    "    return(df)"
   ]
  },
  {
   "cell_type": "code",
   "execution_count": 4,
   "metadata": {
    "id": "RQvI177ykysD"
   },
   "outputs": [],
   "source": [
    "def my_read_csv_file(file_name, limit):\n",
    "    \"read the csv file and print only the first limit rows\"\n",
    "    \n",
    "    csv_file = open(file_name, \"r\")\n",
    "    \n",
    "    csv_data = csv.reader(csv_file)\n",
    "    \n",
    "    i = 0\n",
    "    \n",
    "    for row in csv_data:\n",
    "        i += 1\n",
    "        if i <= limit:\n",
    "            print(row)\n",
    "            \n",
    "    print(\"\\nPrinted \", min(limit, i), \"lines of \", i, \"total lines.\")"
   ]
  },
  {
   "cell_type": "markdown",
   "metadata": {
    "id": "UgdozJdsYZzu"
   },
   "source": [
    "### Drop tables, create and load from CSV files"
   ]
  },
  {
   "cell_type": "code",
   "execution_count": 5,
   "metadata": {
    "id": "_ypQrufSVUzp"
   },
   "outputs": [],
   "source": [
    "connection.rollback()\n",
    "\n",
    "query = \"\"\"\n",
    "\n",
    "drop table if exists stations;\n",
    "\"\"\"\n",
    "\n",
    "cursor = connection.cursor()\n",
    "cursor.execute(query)\n",
    "\n",
    "connection.commit()"
   ]
  },
  {
   "cell_type": "code",
   "execution_count": 6,
   "metadata": {
    "id": "zTPVkavlVVJO"
   },
   "outputs": [],
   "source": [
    "connection.rollback()\n",
    "\n",
    "query = \"\"\"\n",
    "\n",
    "drop table if exists lines;\n",
    "\n",
    "\"\"\"\n",
    "\n",
    "cursor = connection.cursor()\n",
    "cursor.execute(query)\n",
    "\n",
    "connection.commit()"
   ]
  },
  {
   "cell_type": "code",
   "execution_count": 7,
   "metadata": {
    "id": "lkVXQu5ZVVV-"
   },
   "outputs": [],
   "source": [
    "connection.rollback()\n",
    "\n",
    "query = \"\"\"\n",
    "\n",
    "drop table if exists travel_times;\n",
    "\n",
    "\"\"\"\n",
    "\n",
    "cursor = connection.cursor()\n",
    "cursor.execute(query)\n",
    "\n",
    "connection.commit()"
   ]
  },
  {
   "cell_type": "code",
   "execution_count": 8,
   "metadata": {
    "id": "cFuQtg9pWTto"
   },
   "outputs": [],
   "source": [
    "connection.rollback()\n",
    "\n",
    "query = \"\"\"\n",
    "\n",
    "create table stations (\n",
    "    station varchar(32),\n",
    "    latitude numeric(9,6),\n",
    "    longitude numeric(9,6),\n",
    "    transfer_time numeric(3),\n",
    "    primary key (station)\n",
    ");\n",
    "\n",
    "\"\"\"\n",
    "\n",
    "cursor = connection.cursor()\n",
    "cursor.execute(query)\n",
    "\n",
    "connection.commit()"
   ]
  },
  {
   "cell_type": "code",
   "execution_count": 9,
   "metadata": {
    "id": "_b1wMoNfWYcB"
   },
   "outputs": [],
   "source": [
    "connection.rollback()\n",
    "\n",
    "query = \"\"\"\n",
    "\n",
    "create table lines (\n",
    "    line varchar(6),\n",
    "    sequence numeric(2),\n",
    "    station varchar(32),\n",
    "    primary key (line, sequence)\n",
    ");\n",
    "\n",
    "\"\"\"\n",
    "\n",
    "cursor = connection.cursor()\n",
    "cursor.execute(query)\n",
    "\n",
    "connection.commit()"
   ]
  },
  {
   "cell_type": "code",
   "execution_count": 10,
   "metadata": {
    "id": "dIyU9eggWYvB"
   },
   "outputs": [],
   "source": [
    "connection.rollback()\n",
    "\n",
    "query = \"\"\"\n",
    "\n",
    "create table travel_times (\n",
    "    station_1 varchar(32),\n",
    "    station_2 varchar(32),\n",
    "    travel_time numeric(3),\n",
    "    primary key (station_1, station_2)\n",
    ");\n",
    "\n",
    "\"\"\"\n",
    "\n",
    "cursor = connection.cursor()\n",
    "cursor.execute(query)\n",
    "\n",
    "connection.commit()"
   ]
  },
  {
   "cell_type": "code",
   "execution_count": 11,
   "metadata": {
    "id": "PkwAauOfWY5w"
   },
   "outputs": [],
   "source": [
    "# NOTE: use location of data files\n",
    "connection.rollback()\n",
    "\n",
    "query = \"\"\"\n",
    "\n",
    "copy stations\n",
    "from '/user/projects/w205_project3/data/stations.csv' delimiter ',' NULL '' csv header;\n",
    "\n",
    "\"\"\"\n",
    "\n",
    "cursor = connection.cursor()\n",
    "cursor.execute(query)\n",
    "\n",
    "connection.commit()"
   ]
  },
  {
   "cell_type": "code",
   "execution_count": 12,
   "metadata": {
    "id": "L4OpEyVCWZBf"
   },
   "outputs": [],
   "source": [
    "connection.rollback()\n",
    "\n",
    "query = \"\"\"\n",
    "\n",
    "copy lines\n",
    "from '/user/projects/w205_project3/data/lines.csv' delimiter ',' NULL '' csv header;\n",
    "\n",
    "\"\"\"\n",
    "\n",
    "cursor = connection.cursor()\n",
    "cursor.execute(query)\n",
    "\n",
    "connection.commit()"
   ]
  },
  {
   "cell_type": "code",
   "execution_count": 13,
   "metadata": {
    "id": "3gH-mraIWZF4"
   },
   "outputs": [],
   "source": [
    "connection.rollback()\n",
    "\n",
    "query = \"\"\"\n",
    "\n",
    "copy travel_times\n",
    "from '/user/projects/w205_project3/data/travel_times.csv' delimiter ',' NULL '' csv header;\n",
    "\n",
    "\"\"\"\n",
    "\n",
    "cursor = connection.cursor()\n",
    "cursor.execute(query)\n",
    "\n",
    "connection.commit()"
   ]
  },
  {
   "cell_type": "markdown",
   "metadata": {
    "id": "evmlasqHYv1B"
   },
   "source": [
    "### Establish Neo4j connection and helper functions"
   ]
  },
  {
   "cell_type": "code",
   "execution_count": 14,
   "metadata": {
    "id": "9cH0SX42oEeo"
   },
   "outputs": [],
   "source": [
    "driver = neo4j.GraphDatabase.driver(uri=\"neo4j://neo4j:7687\", auth=(\"neo4j\",\"w205\"))\n",
    "session = driver.session(database=\"neo4j\")"
   ]
  },
  {
   "cell_type": "code",
   "execution_count": 15,
   "metadata": {
    "id": "HPj7XZhroEpI"
   },
   "outputs": [],
   "source": [
    "def my_neo4j_wipe_out_database():\n",
    "    \"wipe out database by deleting all nodes and relationships\"\n",
    "    \n",
    "    query = \"match (node)-[relationship]->() delete node, relationship\"\n",
    "    session.run(query)\n",
    "    \n",
    "    query = \"match (node) delete node\"\n",
    "    session.run(query)\n",
    "  \n",
    "def my_neo4j_run_query_pandas(query, **kwargs):\n",
    "    \"run a query and return the results in a pandas dataframe\"\n",
    "    \n",
    "    result = session.run(query, **kwargs)\n",
    "    \n",
    "    df = pd.DataFrame([r.values() for r in result], columns=result.keys())\n",
    "    \n",
    "    return df\n",
    "\n",
    "def my_neo4j_create_node(station_name):\n",
    "    \"create a node with label Station\"\n",
    "    \n",
    "    query = \"\"\"\n",
    "    \n",
    "    CREATE (:Station {name: $station_name})\n",
    "    \n",
    "    \"\"\"\n",
    "    \n",
    "    session.run(query, station_name=station_name)\n",
    "\n",
    "def my_neo4j_create_relationship_one_way(from_station, to_station, weight):\n",
    "    \"create a relationship one way between two stations with a weight\"\n",
    "    \n",
    "    query = \"\"\"\n",
    "    \n",
    "    MATCH (from:Station), \n",
    "          (to:Station)\n",
    "    WHERE from.name = $from_station and to.name = $to_station\n",
    "    CREATE (from)-[:LINK {weight: $weight}]->(to)\n",
    "    \n",
    "    \"\"\"\n",
    "    \n",
    "    session.run(query, from_station=from_station, to_station=to_station, weight=weight)\n",
    "\n",
    "def my_neo4j_create_relationship_two_way(from_station, to_station, weight):\n",
    "    \"create relationships two way between two stations with a weight\"\n",
    "    \n",
    "    query = \"\"\"\n",
    "    \n",
    "    MATCH (from:Station), \n",
    "          (to:Station)\n",
    "    WHERE from.name = $from_station and to.name = $to_station\n",
    "    CREATE (from)-[:LINK {weight: $weight}]->(to),\n",
    "           (to)-[:LINK {weight: $weight}]->(from)\n",
    "    \n",
    "    \"\"\"\n",
    "    \n",
    "    session.run(query, from_station=from_station, to_station=to_station, weight=weight)\n",
    "\n"
   ]
  },
  {
   "cell_type": "code",
   "execution_count": 16,
   "metadata": {
    "id": "2W013kBVoEzO"
   },
   "outputs": [],
   "source": [
    "my_neo4j_wipe_out_database()"
   ]
  },
  {
   "cell_type": "markdown",
   "metadata": {
    "id": "3LTZx4ubaC_y"
   },
   "source": [
    "### Create graphs from csv station files"
   ]
  },
  {
   "cell_type": "markdown",
   "metadata": {
    "id": "sFlXG1m2ZrHk"
   },
   "source": [
    "#### Query the list of stations and create the departure and arrival nodes in the graph\n",
    "\n",
    "Use the query from 3.2.1 \"Query the list of stations\"\n",
    "\n",
    "For each station X, create two nodes:\n",
    "* depart X\n",
    "* arrive X\n",
    "\n",
    "Use the function my_neo4j_create_node() defined above\n",
    "\n",
    "For example, West Oakland:\n",
    "* my_neo4j_create_node('depart West Oakland')\n",
    "* my_neo4j_create_node('arrive West Oakland')"
   ]
  },
  {
   "cell_type": "code",
   "execution_count": 17,
   "metadata": {
    "id": "eF7yozaqZrxz"
   },
   "outputs": [],
   "source": [
    "connection.rollback()\n",
    "\n",
    "query = \"\"\"\n",
    "\n",
    "select station\n",
    "from stations\n",
    "order by station\n",
    "\n",
    "\"\"\"\n",
    "\n",
    "cursor.execute(query)\n",
    "\n",
    "connection.rollback()\n",
    "\n",
    "rows = cursor.fetchall()\n",
    "\n",
    "for row in rows:\n",
    "    \n",
    "    station = row[0]\n",
    "    \n",
    "    my_neo4j_create_node('depart ' + station)\n",
    "    my_neo4j_create_node('arrive ' + station)"
   ]
  },
  {
   "cell_type": "markdown",
   "metadata": {
    "id": "0NdAVKkBaSS2"
   },
   "source": [
    "#### Query the list of stations and the lines they serve, create line nodes, and create relationships between the line nodes and the departure and arrival nodes with weight 0\n",
    "\n",
    "Use the query from \"Query the list of stations and the lines they serve\"\n",
    "\n",
    "For each station X and each line Y that the station serves:\n",
    "* Create a line node\n",
    "* Create a relationship from the departure node to the line node with weight 0\n",
    "* Create a relationship from the line node to the arrival node with weight 0\n",
    "\n",
    "Use the function my_neo4j_create_relationship_one_way() defined above to create the relationships"
   ]
  },
  {
   "cell_type": "code",
   "execution_count": 20,
   "metadata": {
    "id": "Kj7iRn2CajaO"
   },
   "outputs": [],
   "source": [
    "connection.rollback()\n",
    "\n",
    "query = \"\"\"\n",
    "\n",
    "select station, line\n",
    "from lines\n",
    "order by station, line\n",
    "\n",
    "\"\"\"\n",
    "\n",
    "cursor.execute(query)\n",
    "\n",
    "connection.rollback()\n",
    "\n",
    "rows = cursor.fetchall()\n",
    "\n",
    "for row in rows:\n",
    "    \n",
    "    station = row[0]\n",
    "    line = row[1]\n",
    "    \n",
    "    depart = 'depart ' + station\n",
    "    arrive = 'arrive ' + station\n",
    "    line_station = line + ' ' + station\n",
    "    \n",
    "    my_neo4j_create_node(line_station)\n",
    "    my_neo4j_create_relationship_one_way(depart, line_station, 0)\n",
    "    my_neo4j_create_relationship_one_way(line_station, arrive, 0)"
   ]
  },
  {
   "cell_type": "markdown",
   "metadata": {
    "id": "W5rVOI2WaoUf"
   },
   "source": [
    "#### Query the list of all possible line transfers and the transfer times, create a relationship for each transfer with the transfer time as the weight\n",
    "\n",
    "Use the query from 3.2.5 \"Query the list of all possible line transfers and the transfer times\"\n",
    "\n",
    "For each station X, from line Y, to line Z, create a relationship from Y's line node to Z's line node with the weight set to the transfer time"
   ]
  },
  {
   "cell_type": "code",
   "execution_count": null,
   "metadata": {
    "id": "441E_3e8azho"
   },
   "outputs": [],
   "source": [
    "connection.rollback()\n",
    "\n",
    "query = \"\"\"\n",
    "\n",
    "select a.station, a.line as from_line, b.line as to_line, s.transfer_time\n",
    "from lines a\n",
    "     join lines b\n",
    "       on a.station = b.station and a.line <> b.line \n",
    "     join stations s\n",
    "       on a.station = s.station\n",
    "order by 1, 2, 3\n",
    "\n",
    "\"\"\"\n",
    "\n",
    "cursor.execute(query)\n",
    "\n",
    "connection.rollback()\n",
    "\n",
    "rows = cursor.fetchall()\n",
    "\n",
    "for row in rows:\n",
    "    \n",
    "    station = row[0]\n",
    "    from_line = row[1]\n",
    "    to_line = row[2]\n",
    "    transfer_time = int(row[3])\n",
    "    \n",
    "    from_station = from_line + ' ' + station\n",
    "    to_station = to_line + ' ' + station\n",
    "    \n",
    "    my_neo4j_create_relationship_one_way(from_station, to_station, transfer_time)"
   ]
  },
  {
   "cell_type": "markdown",
   "metadata": {
    "id": "HkwalSiQbB3k"
   },
   "source": [
    "#### Query the list of all segments between each station and its adjoining stations, create a relationship for each segment both ways\n",
    "\n",
    "Use the query from 3.2.7 \"Query the list of all segments between each station and its adjoining stations\"\n",
    "\n",
    "For each segment from station X to station Y on line Z, create two relationships:\n",
    "* From X's line node to Y's line node with travel time\n",
    "* From Y's line node to X's line node with travel time\n",
    "\n",
    "Use the function my_neo4j_create_relationship_two_way() defined above which will create both relationships "
   ]
  },
  {
   "cell_type": "code",
   "execution_count": null,
   "metadata": {
    "id": "g7WFOQNibD6D"
   },
   "outputs": [],
   "source": [
    "connection.rollback()\n",
    "\n",
    "query = \"\"\"\n",
    "\n",
    "select a.line, a.station as from_station, b.station as to_station, t.travel_time\n",
    "from lines a\n",
    "  join lines b\n",
    "    on a.line = b.line and b.sequence = (a.sequence + 1)\n",
    "  join travel_times t\n",
    "    on (a.station = t.station_1 and b.station = t.station_2)\n",
    "        or (a.station = t.station_2 and b.station = t.station_1)\n",
    "order by line, from_station, to_station\n",
    "\n",
    "\"\"\"\n",
    "\n",
    "cursor.execute(query)\n",
    "\n",
    "connection.rollback()\n",
    "\n",
    "rows = cursor.fetchall()\n",
    "\n",
    "for row in rows:\n",
    "    \n",
    "    line = row[0]\n",
    "    from_station = line + ' ' + row[1]\n",
    "    to_station = line + ' ' + row[2]\n",
    "    travel_time = int(row[3])\n",
    "    \n",
    "    my_neo4j_create_relationship_two_way(from_station, to_station, travel_time)"
   ]
  },
  {
   "cell_type": "markdown",
   "metadata": {
    "id": "qD5mih00Y2rq"
   },
   "source": [
    "### Begin PROJECT 3 CODE HERE"
   ]
  },
  {
   "cell_type": "markdown",
   "metadata": {
    "id": "HRmTGdFJbniQ"
   },
   "source": [
    "#### Define search algorithms"
   ]
  },
  {
   "cell_type": "code",
   "execution_count": null,
   "metadata": {
    "id": "ITOO8aRkY9R9"
   },
   "outputs": [],
   "source": [
    "# ************************************************************************************************************\n",
    "# Shortest Path algorithm from W205 labs - uses dijkstra\n",
    "# ************************************************************************************************************\n",
    "def my_neo4j_shortest_path(from_station, to_station):\n",
    "    \"given a from station and to station, run and print the shortest path\"\n",
    "    \n",
    "    query = \"CALL gds.graph.drop('ds_graph', false)\"\n",
    "    session.run(query)\n",
    "\n",
    "    query = \"CALL gds.graph.project('ds_graph', 'Station', 'LINK', {relationshipProperties: 'weight'})\"\n",
    "    session.run(query)\n",
    "\n",
    "    query = \"\"\"\n",
    "\n",
    "    MATCH (source:Station {name: $source}), (target:Station {name: $target})\n",
    "    CALL gds.shortestPath.dijkstra.stream(\n",
    "        'ds_graph', \n",
    "        { sourceNode: source, \n",
    "          targetNode: target, \n",
    "          relationshipWeightProperty: 'weight'\n",
    "        }\n",
    "    )\n",
    "    YIELD index, sourceNode, targetNode, totalCost, nodeIds, costs, path\n",
    "    RETURN\n",
    "        gds.util.asNode(sourceNode).name AS from,\n",
    "        gds.util.asNode(targetNode).name AS to,\n",
    "        totalCost,\n",
    "        [nodeId IN nodeIds | gds.util.asNode(nodeId).name] AS nodes,\n",
    "        costs\n",
    "    ORDER BY index\n",
    "\n",
    "    \"\"\"\n",
    "\n",
    "    result = session.run(query, source=from_station, target=to_station)\n",
    "    \n",
    "    for r in result:\n",
    "        \n",
    "        total_cost = int(r['totalCost'])\n",
    "        \n",
    "        print(\"\\n--------------------------------\")\n",
    "        print(\"   Total Cost: \", total_cost)\n",
    "        print(\"   Minutes: \", round(total_cost / 60.0,1))\n",
    "        print(\"--------------------------------\")\n",
    "        \n",
    "        nodes = r['nodes']\n",
    "        costs = r['costs']\n",
    "        \n",
    "        i = 0\n",
    "        previous = 0\n",
    "        \n",
    "        for n in nodes:\n",
    "            \n",
    "            print(n + \", \" + str(int(costs[i]) - previous)  + \", \" + str(int(costs[i])))\n",
    "            \n",
    "            previous = int(costs[i])\n",
    "            i += 1"
   ]
  },
  {
   "cell_type": "code",
   "execution_count": null,
   "metadata": {},
   "outputs": [],
   "source": [
    "# ***************************************************************************\n",
    "# UNIT TEST dijkstra shortest path\n",
    "# ***************************************************************************\n",
    "my_neo4j_shortest_path(\"depart Ashby\",\"arrive West Oakland\")"
   ]
  },
  {
   "cell_type": "code",
   "execution_count": null,
   "metadata": {},
   "outputs": [],
   "source": [
    "# ***************************************************************************\n",
    "# Minimum Spanning Tree\n",
    "# ***************************************************************************\n",
    "def my_neo4j_mst(station):\n",
    "    \"wipe out mst relationships\"\n",
    "    \n",
    "    query = \"match (node)-[relationship:MST]->() delete relationship\"\n",
    "    session.run(query)\n",
    "    \n",
    "    query = \"CALL gds.graph.drop('ds_graph', false)\"\n",
    "    session.run(query)\n",
    "\n",
    "    query = \"CALL gds.graph.project('ds_graph', 'Station', 'LINK', {relationshipProperties: 'weight'})\"\n",
    "    session.run(query)\n",
    "    \n",
    "    query = \"\"\"\n",
    "\n",
    "    MATCH (n:Station {name: $source})\n",
    "    CALL gds.alpha.spanningTree.minimum.write('ds_graph',\n",
    "                                          {startNodeId: id(n),\n",
    "                                           relationshipWeightProperty: 'track_miles',\n",
    "                                           writeProperty: 'MST',\n",
    "                                           weightWriteProperty: 'writeCost'\n",
    "                                          }\n",
    "                                         )\n",
    "    YIELD preProcessingMillis, computeMillis, writeMillis, effectiveNodeCount\n",
    "    RETURN preProcessingMillis, computeMillis, writeMillis, effectiveNodeCount;\n",
    "    \"\"\"\n",
    "    session.run(query,source=station)\n",
    "    \n",
    "    query = \"\"\"\n",
    "\n",
    "    MATCH path = (n:Station {name: $source})-[:MST*]-()\n",
    "    WITH relationships(path) AS rels\n",
    "    UNWIND rels AS rel\n",
    "    WITH DISTINCT rel AS rel\n",
    "    RETURN startNode(rel).name AS source, endNode(rel).name AS destination, rel.writeCost AS cost\n",
    "\n",
    "    \"\"\"\n",
    "    \n",
    "    session.run(query,source=station)"
   ]
  },
  {
   "cell_type": "code",
   "execution_count": null,
   "metadata": {},
   "outputs": [],
   "source": [
    "# ******************************************************************************************\n",
    "# UNIT TEST Minimum Spanning Tree\n",
    "# ******************************************************************************************\n",
    "my_neo4j_mst(\"depart Ashby\")"
   ]
  },
  {
   "cell_type": "code",
   "execution_count": null,
   "metadata": {},
   "outputs": [],
   "source": [
    "# ******************************************************************************************\n",
    "# ADD ADDITIONAL neo4j gds algorithms and use directly in the business scenarios\n",
    "# ******************************************************************************************"
   ]
  },
  {
   "cell_type": "markdown",
   "metadata": {
    "id": "MV1j0aPBcfX1"
   },
   "source": [
    "#### Project To Do\n",
    "1. Add modules to injest real time traffic data (use Redis or Redis fixed document as a proxy)\n",
    "2. Import train schedules, planned route outages (use MongoDB)\n",
    "3. Based on 1 and 2 create new graphs or modify cost / weights across nodes on existing graphs to eliminate paths and change time cost across nodes\n",
    "4. Create 3 or more search, sort algorithms. Use the above as a template\n",
    "5. Overlay Google maps API\n"
   ]
  },
  {
   "cell_type": "markdown",
   "metadata": {},
   "source": [
    "#### Business Scenario 1\n",
    "\n",
    "Select customers from the customers table who are within the BART transportation region\n",
    "\n",
    "Run EDA using neo4j\n",
    "   * Find clusters of customers, where concentrated most\n",
    "   * Find nearest and furthest BART station to the clusters\n",
    "   * Recommend pop up stores and new permanent locations"
   ]
  },
  {
   "cell_type": "code",
   "execution_count": 28,
   "metadata": {},
   "outputs": [
    {
     "data": {
      "text/html": [
       "<div>\n",
       "<style scoped>\n",
       "    .dataframe tbody tr th:only-of-type {\n",
       "        vertical-align: middle;\n",
       "    }\n",
       "\n",
       "    .dataframe tbody tr th {\n",
       "        vertical-align: top;\n",
       "    }\n",
       "\n",
       "    .dataframe thead th {\n",
       "        text-align: right;\n",
       "    }\n",
       "</style>\n",
       "<table border=\"1\" class=\"dataframe\">\n",
       "  <thead>\n",
       "    <tr style=\"text-align: right;\">\n",
       "      <th></th>\n",
       "      <th>customer_id</th>\n",
       "      <th>first_name</th>\n",
       "      <th>last_name</th>\n",
       "      <th>street</th>\n",
       "      <th>city</th>\n",
       "      <th>state</th>\n",
       "      <th>zip</th>\n",
       "      <th>closest_store_id</th>\n",
       "      <th>distance</th>\n",
       "    </tr>\n",
       "  </thead>\n",
       "  <tbody>\n",
       "    <tr>\n",
       "      <th>0</th>\n",
       "      <td>1</td>\n",
       "      <td>Robb</td>\n",
       "      <td>Weaving</td>\n",
       "      <td>5 Ramsey Place</td>\n",
       "      <td>Oakland</td>\n",
       "      <td>CA</td>\n",
       "      <td>94609</td>\n",
       "      <td>1</td>\n",
       "      <td>1</td>\n",
       "    </tr>\n",
       "    <tr>\n",
       "      <th>1</th>\n",
       "      <td>2</td>\n",
       "      <td>Robby</td>\n",
       "      <td>Belliard</td>\n",
       "      <td>6 Londonderry Plaza</td>\n",
       "      <td>Oakland</td>\n",
       "      <td>CA</td>\n",
       "      <td>94609</td>\n",
       "      <td>1</td>\n",
       "      <td>1</td>\n",
       "    </tr>\n",
       "    <tr>\n",
       "      <th>2</th>\n",
       "      <td>3</td>\n",
       "      <td>Sadella</td>\n",
       "      <td>Caudrelier</td>\n",
       "      <td>548 Mcguire Parkway</td>\n",
       "      <td>Oakland</td>\n",
       "      <td>CA</td>\n",
       "      <td>94609</td>\n",
       "      <td>1</td>\n",
       "      <td>1</td>\n",
       "    </tr>\n",
       "    <tr>\n",
       "      <th>3</th>\n",
       "      <td>4</td>\n",
       "      <td>Holmes</td>\n",
       "      <td>Shimmings</td>\n",
       "      <td>99 Kennedy Court</td>\n",
       "      <td>Oakland</td>\n",
       "      <td>CA</td>\n",
       "      <td>94609</td>\n",
       "      <td>1</td>\n",
       "      <td>1</td>\n",
       "    </tr>\n",
       "    <tr>\n",
       "      <th>4</th>\n",
       "      <td>5</td>\n",
       "      <td>Beverley</td>\n",
       "      <td>Gubbin</td>\n",
       "      <td>51 Mcbride Drive</td>\n",
       "      <td>Oakland</td>\n",
       "      <td>CA</td>\n",
       "      <td>94609</td>\n",
       "      <td>1</td>\n",
       "      <td>1</td>\n",
       "    </tr>\n",
       "    <tr>\n",
       "      <th>...</th>\n",
       "      <td>...</td>\n",
       "      <td>...</td>\n",
       "      <td>...</td>\n",
       "      <td>...</td>\n",
       "      <td>...</td>\n",
       "      <td>...</td>\n",
       "      <td>...</td>\n",
       "      <td>...</td>\n",
       "      <td>...</td>\n",
       "    </tr>\n",
       "    <tr>\n",
       "      <th>3000</th>\n",
       "      <td>5302</td>\n",
       "      <td>Jory</td>\n",
       "      <td>Buss</td>\n",
       "      <td>3 Bonner Court</td>\n",
       "      <td>Oakland</td>\n",
       "      <td>CA</td>\n",
       "      <td>94621</td>\n",
       "      <td>1</td>\n",
       "      <td>9</td>\n",
       "    </tr>\n",
       "    <tr>\n",
       "      <th>3001</th>\n",
       "      <td>5303</td>\n",
       "      <td>Fonz</td>\n",
       "      <td>Gooder</td>\n",
       "      <td>25625 Lakeland Road</td>\n",
       "      <td>Oakland</td>\n",
       "      <td>CA</td>\n",
       "      <td>94621</td>\n",
       "      <td>1</td>\n",
       "      <td>9</td>\n",
       "    </tr>\n",
       "    <tr>\n",
       "      <th>3002</th>\n",
       "      <td>5304</td>\n",
       "      <td>Elora</td>\n",
       "      <td>MacKean</td>\n",
       "      <td>79655 Columbus Terrace</td>\n",
       "      <td>Oakland</td>\n",
       "      <td>CA</td>\n",
       "      <td>94621</td>\n",
       "      <td>1</td>\n",
       "      <td>9</td>\n",
       "    </tr>\n",
       "    <tr>\n",
       "      <th>3003</th>\n",
       "      <td>5305</td>\n",
       "      <td>Rafa</td>\n",
       "      <td>Mcettrick</td>\n",
       "      <td>76837 Green Way</td>\n",
       "      <td>Oakland</td>\n",
       "      <td>CA</td>\n",
       "      <td>94621</td>\n",
       "      <td>1</td>\n",
       "      <td>9</td>\n",
       "    </tr>\n",
       "    <tr>\n",
       "      <th>3004</th>\n",
       "      <td>5306</td>\n",
       "      <td>Jolene</td>\n",
       "      <td>Bownass</td>\n",
       "      <td>6358 Sullivan Parkway</td>\n",
       "      <td>Oakland</td>\n",
       "      <td>CA</td>\n",
       "      <td>94621</td>\n",
       "      <td>1</td>\n",
       "      <td>9</td>\n",
       "    </tr>\n",
       "  </tbody>\n",
       "</table>\n",
       "<p>3005 rows × 9 columns</p>\n",
       "</div>"
      ],
      "text/plain": [
       "      customer_id first_name   last_name                  street     city  \\\n",
       "0               1       Robb     Weaving          5 Ramsey Place  Oakland   \n",
       "1               2      Robby    Belliard     6 Londonderry Plaza  Oakland   \n",
       "2               3    Sadella  Caudrelier     548 Mcguire Parkway  Oakland   \n",
       "3               4     Holmes   Shimmings        99 Kennedy Court  Oakland   \n",
       "4               5   Beverley      Gubbin        51 Mcbride Drive  Oakland   \n",
       "...           ...        ...         ...                     ...      ...   \n",
       "3000         5302       Jory        Buss          3 Bonner Court  Oakland   \n",
       "3001         5303       Fonz      Gooder     25625 Lakeland Road  Oakland   \n",
       "3002         5304      Elora     MacKean  79655 Columbus Terrace  Oakland   \n",
       "3003         5305       Rafa   Mcettrick         76837 Green Way  Oakland   \n",
       "3004         5306     Jolene     Bownass   6358 Sullivan Parkway  Oakland   \n",
       "\n",
       "     state    zip  closest_store_id  distance  \n",
       "0       CA  94609                 1         1  \n",
       "1       CA  94609                 1         1  \n",
       "2       CA  94609                 1         1  \n",
       "3       CA  94609                 1         1  \n",
       "4       CA  94609                 1         1  \n",
       "...    ...    ...               ...       ...  \n",
       "3000    CA  94621                 1         9  \n",
       "3001    CA  94621                 1         9  \n",
       "3002    CA  94621                 1         9  \n",
       "3003    CA  94621                 1         9  \n",
       "3004    CA  94621                 1         9  \n",
       "\n",
       "[3005 rows x 9 columns]"
      ]
     },
     "execution_count": 28,
     "metadata": {},
     "output_type": "execute_result"
    }
   ],
   "source": [
    "# ********************************************************************************************\n",
    "# Business Scenario 1\n",
    "#\n",
    "# The customers tables is in postgres from Lab week 2 and Project 1\n",
    "#\n",
    "# ********************************************************************************************\n",
    "rollback_before_flag = True\n",
    "rollback_after_flag = True\n",
    "\n",
    "query = \"\"\"\n",
    "\n",
    "select *\n",
    "from customers\n",
    "where city = 'Oakland' or city = 'Berkeley'\n",
    "\n",
    "\"\"\"\n",
    "\n",
    "df_stores = my_select_query_pandas(query, rollback_before_flag, rollback_after_flag)\n",
    "df_stores"
   ]
  },
  {
   "cell_type": "code",
   "execution_count": 34,
   "metadata": {},
   "outputs": [
    {
     "name": "stdout",
     "output_type": "stream",
     "text": [
      "Latitude:  37.803608\n",
      "Longitude:  -122.420042\n",
      "City :  San Francisco\n",
      "State :  California\n",
      "Country :  United States\n",
      "Zip Code :  90214\n"
     ]
    }
   ],
   "source": [
    "# ***********************************************************************************************************************\n",
    "# Business Scenario 1\n",
    "#\n",
    "# Determine set of cities / zip codes within the BART track network\n",
    "#\n",
    "# Reverse zip code locator code from: \n",
    "# https://www.geeksforgeeks.org/find-the-location-with-specified-latitude-and-longitude-using-python/\n",
    "# https://www.geeksforgeeks.org/get-the-city-state-and-country-names-from-latitude-and-longitude-using-python/?ref=rp\n",
    "# **********************************************************************************************************************\n",
    "# Initialize Nominatim API\n",
    "geolocator = Nominatim(user_agent=\"geoapiExercises\")\n",
    " \n",
    "# Assign Latitude & Longitude\n",
    "Latitude = \"37.803608\"\n",
    "Longitude = \"-122.420042\"\n",
    " \n",
    "# Displaying Latitude and Longitude\n",
    "print(\"Latitude: \", Latitude)\n",
    "print(\"Longitude: \", Longitude)\n",
    "\n",
    "location = geolocator.reverse(Latitude+\",\"+Longitude)\n",
    "address = location.raw['address']\n",
    "city = address.get('city', '')\n",
    "state = address.get('state', '')\n",
    "country = address.get('country', '')\n",
    "code = address.get('country_code')\n",
    "zipcode = address.get('postcode')\n",
    "print('City : ',city)\n",
    "print('State : ',state)\n",
    "print('Country : ',country)\n",
    "print('Zip Code : ', zipcode)\n"
   ]
  },
  {
   "cell_type": "code",
   "execution_count": null,
   "metadata": {},
   "outputs": [],
   "source": [
    "# ***********************************************************************************************************************\n",
    "# Business Scenario 1\n",
    "#\n",
    "# Pseudocode:\n",
    "#\n",
    "# Get list of unique zip codes associated to the set of BART stations using lat lon of station locations\n",
    "#   -- lat lon from station table\n",
    "# From the customers table, find all customers with zip codes in the list of zip codes\n",
    "# Prepare histogram of customer counts per zip code\n",
    "# Create neo4j graph of nodes for zip codes along with graph of stations \n",
    "#   -- can we make the thickness of the node circle change based on population density?\n",
    "#   -- connect zip code nodes to station nodes with links indicating distance so distance from zip to station within \n",
    "#      same zip should be 0\n",
    "#   -- refine further ... use customer address (and google maps api?) to compute actual distance to each BART station\n",
    "# Can we use any of the centrality type measures for this scenario?\n",
    "# **********************************************************************************************************************"
   ]
  },
  {
   "cell_type": "markdown",
   "metadata": {},
   "source": [
    "#### Business Scenario 2\n",
    "\n",
    "Given traffic congestion \"real time\" data, compute shortest BART transportation path to avoid congestion\n",
    "\n",
    "* Import traffic data either from Redis or canned file\n",
    "* Update weights on links to make congested paths more costly\n",
    "* Run shortest path (or other) algorithms\n",
    "   \n",
    " (Traffic congestion data -- extreme, high, medium, low as input feed. Update transit times by\n",
    " factors of 100, 10, 2, 1. Run route planning algorithm based on congestion.)\n"
   ]
  },
  {
   "cell_type": "code",
   "execution_count": null,
   "metadata": {},
   "outputs": [],
   "source": [
    "# **********************************************************************************************************************\n",
    "# Business Scenario 2\n",
    "#\n",
    "# Given traffic congestion \"real time\" data, compute shortest \n",
    "# BART transportation path to avoid congestion\n",
    "#\n",
    "# Import traffic data either from Redis or canned file\n",
    "# Update weights on links to make congested paths more costly\n",
    "# Run shortest path (or other) algorithms\n",
    "#   \n",
    "# (Traffic congestion data -- extreme, high, medium, low as input feed. Update transit times by\n",
    "# factors of 100, 10, 2, 1. Run route planning algorithm based on congestion.)\n",
    "# *********************************************************************************************************************"
   ]
  },
  {
   "cell_type": "code",
   "execution_count": null,
   "metadata": {},
   "outputs": [],
   "source": [
    "# ADD SCENARIO 2"
   ]
  },
  {
   "cell_type": "markdown",
   "metadata": {},
   "source": [
    "#### Business Scenario 3\n",
    "Given scheduled station closures and track segment out of service, re-evaluate best locations for popup locations or perhaps deploy delivery robots to pick up from those locations not accessible to customers and bring products to open locations. For example, if Oakland marathon is running with street closures, customers cannot access some areas of the city.\n",
    "\n",
    "* Import schedule file (from Redis, MongoDB or canned CSV file)\n",
    "* Use file remove stations from neo4j however do not remove associated pickup location thereby causing a dangling node without a link.\n",
    "* Deploy mobile robots to dangling nodes and deliver product to nearest open pickup location\n",
    "* Compute next nearest location also accounting for removed Links due to planned track maintenance"
   ]
  },
  {
   "cell_type": "code",
   "execution_count": null,
   "metadata": {},
   "outputs": [],
   "source": [
    "# *********************************************************************************************************************\n",
    "# Business Scenario 3\n",
    "#\n",
    "# Given scheduled station closures and track segment out of service,  \n",
    "# re-evaluate best locations for popup locations or perhaps deploy\n",
    "# delivery robots to pick up from those locations not accessible to\n",
    "# customers and bring products to open locations.  For example, if\n",
    "# Oakland marathon is running with street closures, customers cannot \n",
    "# access some areas of the city.\n",
    "#\n",
    "# Import schedule file (from Redis, MongoDB or canned CSV file)\n",
    "# Use file remove stations from neo4j however do not remove associated pickup location \n",
    "#   thereby causing a dangling node without a link.\n",
    "# Deploy mobile robots to dangling nodes and deliver product to nearest open pickup location\n",
    "# Compute next nearest location also accounting for removed Links due to planned\n",
    "#   track maintenance\n",
    "#   \n",
    "# ********************************************************************************************************************"
   ]
  },
  {
   "cell_type": "code",
   "execution_count": null,
   "metadata": {},
   "outputs": [],
   "source": [
    "# ADD SCENARIO 3"
   ]
  }
 ],
 "metadata": {
  "colab": {
   "collapsed_sections": [
    "WKZg9tATkmmv",
    "UgdozJdsYZzu",
    "HkwalSiQbB3k",
    "HRmTGdFJbniQ",
    "MV1j0aPBcfX1"
   ],
   "provenance": []
  },
  "kernelspec": {
   "display_name": "Python 3 (ipykernel)",
   "language": "python",
   "name": "python3"
  },
  "language_info": {
   "codemirror_mode": {
    "name": "ipython",
    "version": 3
   },
   "file_extension": ".py",
   "mimetype": "text/x-python",
   "name": "python",
   "nbconvert_exporter": "python",
   "pygments_lexer": "ipython3",
   "version": "3.9.7"
  }
 },
 "nbformat": 4,
 "nbformat_minor": 1
}
